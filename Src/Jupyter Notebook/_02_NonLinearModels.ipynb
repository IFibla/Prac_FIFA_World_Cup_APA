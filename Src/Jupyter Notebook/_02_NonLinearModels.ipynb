{
  "cells": [
    {
      "cell_type": "code",
      "execution_count": 5,
      "metadata": {
        "id": "m0TqD8j3VBo0",
        "colab": {
          "base_uri": "https://localhost:8080/"
        },
        "outputId": "1db51f59-bf80-442e-852e-d249812482ea"
      },
      "outputs": [
        {
          "output_type": "stream",
          "name": "stdout",
          "text": [
            "\u001b[?25l     \u001b[90m━━━━━━━━━━━━━━━━━━━━━━━━━━━━━━━━━━━━━━━━\u001b[0m \u001b[32m0.0/100.3 KB\u001b[0m \u001b[31m?\u001b[0m eta \u001b[36m-:--:--\u001b[0m\r\u001b[2K     \u001b[90m━━━━━━━━━━━━━━━━━━━━━━━━━━━━━━━━━━━━━━━\u001b[0m \u001b[32m100.3/100.3 KB\u001b[0m \u001b[31m6.1 MB/s\u001b[0m eta \u001b[36m0:00:00\u001b[0m\n",
            "\u001b[?25h"
          ]
        }
      ],
      "source": [
        "!pip install scikit-optimize --user --quiet"
      ]
    },
    {
      "cell_type": "code",
      "execution_count": 1,
      "metadata": {
        "id": "zBYx-grnMgYc"
      },
      "outputs": [],
      "source": [
        "import pandas as pd\n",
        "from sklearn.svm import SVC, LinearSVC\n",
        "from sklearn.metrics import confusion_matrix, mean_squared_error, make_scorer, mean_absolute_error\n",
        "\n",
        "import numpy as np\n",
        "\n",
        "from sklearn.ensemble import RandomForestClassifier, GradientBoostingClassifier\n",
        "\n",
        "from sklearn.metrics import classification_report\n",
        "\n",
        "from sklearn.preprocessing import StandardScaler\n",
        "\n",
        "from sklearn.decomposition import PCA\n",
        "from sklearn.manifold import LocallyLinearEmbedding\n",
        "\n",
        "from sklearn.neural_network import MLPClassifier, MLPRegressor\n",
        "from sklearn.neighbors import KNeighborsClassifier, KNeighborsRegressor\n",
        "\n",
        "from sklearn.model_selection import GridSearchCV,train_test_split, cross_val_score, TimeSeriesSplit\n",
        "\n",
        "from yellowbrick.classifier.rocauc import roc_auc\n",
        "from yellowbrick.target.feature_correlation import feature_correlation\n",
        "from yellowbrick.classifier import precision_recall_curve\n",
        "\n",
        "import warnings\n",
        "\n",
        "from skopt import BayesSearchCV\n",
        "\n",
        "pd.set_option('display.precision', 3)"
      ]
    },
    {
      "cell_type": "code",
      "execution_count": 2,
      "metadata": {
        "id": "973RGVOPZSRp"
      },
      "outputs": [],
      "source": [
        "from IPython.display import display, HTML\n",
        "show_html = lambda html: display(HTML(html))"
      ]
    },
    {
      "cell_type": "code",
      "execution_count": 6,
      "metadata": {
        "colab": {
          "base_uri": "https://localhost:8080/",
          "height": 270
        },
        "id": "_ttQoYYfMVlJ",
        "outputId": "c8e9c373-a790-42b1-b7dd-2a00e8f34b95"
      },
      "outputs": [
        {
          "output_type": "execute_result",
          "data": {
            "text/plain": [
              "   away_team_continent  away_team_fifa_rank  away_team_goalkeeper_score  \\\n",
              "0                  0.4                0.349                       0.729   \n",
              "1                  0.4                0.032                       0.812   \n",
              "2                  0.4                0.397                       0.521   \n",
              "3                  0.4                0.212                       0.604   \n",
              "4                  0.4                0.196                       0.625   \n",
              "\n",
              "   away_team_mean_defense_score  away_team_mean_midfield_score  \\\n",
              "0                         0.652                          0.707   \n",
              "1                         0.961                          0.977   \n",
              "2                         0.399                          0.374   \n",
              "3                         0.360                          0.612   \n",
              "4                         0.622                          0.626   \n",
              "\n",
              "   away_team_mean_offense_score  away_team_total_fifa_points  \\\n",
              "0                         0.601                          0.0   \n",
              "1                         0.871                          0.0   \n",
              "2                         0.480                          0.0   \n",
              "3                         0.601                          0.0   \n",
              "4                         0.649                          0.0   \n",
              "\n",
              "   home_team_continent  home_team_fifa_rank  home_team_goalkeeper_score  \\\n",
              "0                  0.4                0.012                       0.938   \n",
              "1                  0.4                0.517                       0.708   \n",
              "2                  0.4                0.140                       0.583   \n",
              "3                  0.4                0.459                       0.604   \n",
              "4                  0.4                0.047                       1.000   \n",
              "\n",
              "   home_team_mean_defense_score  home_team_mean_midfield_score  \\\n",
              "0                         0.842                          0.898   \n",
              "1                         0.536                          0.473   \n",
              "2                         0.664                          0.610   \n",
              "3                         0.315                          0.341   \n",
              "4                         1.000                          0.843   \n",
              "\n",
              "   home_team_mean_offense_score  home_team_total_fifa_points  shoot_out  \\\n",
              "0                         0.907                          0.0        0.0   \n",
              "1                         0.496                          0.0        0.0   \n",
              "2                         0.640                          0.0        0.0   \n",
              "3                         0.597                          0.0        0.0   \n",
              "4                         0.982                          0.0        0.0   \n",
              "\n",
              "   result  \n",
              "0     0.0  \n",
              "1     0.0  \n",
              "2     3.0  \n",
              "3    -2.0  \n",
              "4     1.0  "
            ],
            "text/html": [
              "\n",
              "  <div id=\"df-10029bb8-8c28-4fc6-a355-c58008fc5bc3\">\n",
              "    <div class=\"colab-df-container\">\n",
              "      <div>\n",
              "<style scoped>\n",
              "    .dataframe tbody tr th:only-of-type {\n",
              "        vertical-align: middle;\n",
              "    }\n",
              "\n",
              "    .dataframe tbody tr th {\n",
              "        vertical-align: top;\n",
              "    }\n",
              "\n",
              "    .dataframe thead th {\n",
              "        text-align: right;\n",
              "    }\n",
              "</style>\n",
              "<table border=\"1\" class=\"dataframe\">\n",
              "  <thead>\n",
              "    <tr style=\"text-align: right;\">\n",
              "      <th></th>\n",
              "      <th>away_team_continent</th>\n",
              "      <th>away_team_fifa_rank</th>\n",
              "      <th>away_team_goalkeeper_score</th>\n",
              "      <th>away_team_mean_defense_score</th>\n",
              "      <th>away_team_mean_midfield_score</th>\n",
              "      <th>away_team_mean_offense_score</th>\n",
              "      <th>away_team_total_fifa_points</th>\n",
              "      <th>home_team_continent</th>\n",
              "      <th>home_team_fifa_rank</th>\n",
              "      <th>home_team_goalkeeper_score</th>\n",
              "      <th>home_team_mean_defense_score</th>\n",
              "      <th>home_team_mean_midfield_score</th>\n",
              "      <th>home_team_mean_offense_score</th>\n",
              "      <th>home_team_total_fifa_points</th>\n",
              "      <th>shoot_out</th>\n",
              "      <th>result</th>\n",
              "    </tr>\n",
              "  </thead>\n",
              "  <tbody>\n",
              "    <tr>\n",
              "      <th>0</th>\n",
              "      <td>0.4</td>\n",
              "      <td>0.349</td>\n",
              "      <td>0.729</td>\n",
              "      <td>0.652</td>\n",
              "      <td>0.707</td>\n",
              "      <td>0.601</td>\n",
              "      <td>0.0</td>\n",
              "      <td>0.4</td>\n",
              "      <td>0.012</td>\n",
              "      <td>0.938</td>\n",
              "      <td>0.842</td>\n",
              "      <td>0.898</td>\n",
              "      <td>0.907</td>\n",
              "      <td>0.0</td>\n",
              "      <td>0.0</td>\n",
              "      <td>0.0</td>\n",
              "    </tr>\n",
              "    <tr>\n",
              "      <th>1</th>\n",
              "      <td>0.4</td>\n",
              "      <td>0.032</td>\n",
              "      <td>0.812</td>\n",
              "      <td>0.961</td>\n",
              "      <td>0.977</td>\n",
              "      <td>0.871</td>\n",
              "      <td>0.0</td>\n",
              "      <td>0.4</td>\n",
              "      <td>0.517</td>\n",
              "      <td>0.708</td>\n",
              "      <td>0.536</td>\n",
              "      <td>0.473</td>\n",
              "      <td>0.496</td>\n",
              "      <td>0.0</td>\n",
              "      <td>0.0</td>\n",
              "      <td>0.0</td>\n",
              "    </tr>\n",
              "    <tr>\n",
              "      <th>2</th>\n",
              "      <td>0.4</td>\n",
              "      <td>0.397</td>\n",
              "      <td>0.521</td>\n",
              "      <td>0.399</td>\n",
              "      <td>0.374</td>\n",
              "      <td>0.480</td>\n",
              "      <td>0.0</td>\n",
              "      <td>0.4</td>\n",
              "      <td>0.140</td>\n",
              "      <td>0.583</td>\n",
              "      <td>0.664</td>\n",
              "      <td>0.610</td>\n",
              "      <td>0.640</td>\n",
              "      <td>0.0</td>\n",
              "      <td>0.0</td>\n",
              "      <td>3.0</td>\n",
              "    </tr>\n",
              "    <tr>\n",
              "      <th>3</th>\n",
              "      <td>0.4</td>\n",
              "      <td>0.212</td>\n",
              "      <td>0.604</td>\n",
              "      <td>0.360</td>\n",
              "      <td>0.612</td>\n",
              "      <td>0.601</td>\n",
              "      <td>0.0</td>\n",
              "      <td>0.4</td>\n",
              "      <td>0.459</td>\n",
              "      <td>0.604</td>\n",
              "      <td>0.315</td>\n",
              "      <td>0.341</td>\n",
              "      <td>0.597</td>\n",
              "      <td>0.0</td>\n",
              "      <td>0.0</td>\n",
              "      <td>-2.0</td>\n",
              "    </tr>\n",
              "    <tr>\n",
              "      <th>4</th>\n",
              "      <td>0.4</td>\n",
              "      <td>0.196</td>\n",
              "      <td>0.625</td>\n",
              "      <td>0.622</td>\n",
              "      <td>0.626</td>\n",
              "      <td>0.649</td>\n",
              "      <td>0.0</td>\n",
              "      <td>0.4</td>\n",
              "      <td>0.047</td>\n",
              "      <td>1.000</td>\n",
              "      <td>1.000</td>\n",
              "      <td>0.843</td>\n",
              "      <td>0.982</td>\n",
              "      <td>0.0</td>\n",
              "      <td>0.0</td>\n",
              "      <td>1.0</td>\n",
              "    </tr>\n",
              "  </tbody>\n",
              "</table>\n",
              "</div>\n",
              "      <button class=\"colab-df-convert\" onclick=\"convertToInteractive('df-10029bb8-8c28-4fc6-a355-c58008fc5bc3')\"\n",
              "              title=\"Convert this dataframe to an interactive table.\"\n",
              "              style=\"display:none;\">\n",
              "        \n",
              "  <svg xmlns=\"http://www.w3.org/2000/svg\" height=\"24px\"viewBox=\"0 0 24 24\"\n",
              "       width=\"24px\">\n",
              "    <path d=\"M0 0h24v24H0V0z\" fill=\"none\"/>\n",
              "    <path d=\"M18.56 5.44l.94 2.06.94-2.06 2.06-.94-2.06-.94-.94-2.06-.94 2.06-2.06.94zm-11 1L8.5 8.5l.94-2.06 2.06-.94-2.06-.94L8.5 2.5l-.94 2.06-2.06.94zm10 10l.94 2.06.94-2.06 2.06-.94-2.06-.94-.94-2.06-.94 2.06-2.06.94z\"/><path d=\"M17.41 7.96l-1.37-1.37c-.4-.4-.92-.59-1.43-.59-.52 0-1.04.2-1.43.59L10.3 9.45l-7.72 7.72c-.78.78-.78 2.05 0 2.83L4 21.41c.39.39.9.59 1.41.59.51 0 1.02-.2 1.41-.59l7.78-7.78 2.81-2.81c.8-.78.8-2.07 0-2.86zM5.41 20L4 18.59l7.72-7.72 1.47 1.35L5.41 20z\"/>\n",
              "  </svg>\n",
              "      </button>\n",
              "      \n",
              "  <style>\n",
              "    .colab-df-container {\n",
              "      display:flex;\n",
              "      flex-wrap:wrap;\n",
              "      gap: 12px;\n",
              "    }\n",
              "\n",
              "    .colab-df-convert {\n",
              "      background-color: #E8F0FE;\n",
              "      border: none;\n",
              "      border-radius: 50%;\n",
              "      cursor: pointer;\n",
              "      display: none;\n",
              "      fill: #1967D2;\n",
              "      height: 32px;\n",
              "      padding: 0 0 0 0;\n",
              "      width: 32px;\n",
              "    }\n",
              "\n",
              "    .colab-df-convert:hover {\n",
              "      background-color: #E2EBFA;\n",
              "      box-shadow: 0px 1px 2px rgba(60, 64, 67, 0.3), 0px 1px 3px 1px rgba(60, 64, 67, 0.15);\n",
              "      fill: #174EA6;\n",
              "    }\n",
              "\n",
              "    [theme=dark] .colab-df-convert {\n",
              "      background-color: #3B4455;\n",
              "      fill: #D2E3FC;\n",
              "    }\n",
              "\n",
              "    [theme=dark] .colab-df-convert:hover {\n",
              "      background-color: #434B5C;\n",
              "      box-shadow: 0px 1px 3px 1px rgba(0, 0, 0, 0.15);\n",
              "      filter: drop-shadow(0px 1px 2px rgba(0, 0, 0, 0.3));\n",
              "      fill: #FFFFFF;\n",
              "    }\n",
              "  </style>\n",
              "\n",
              "      <script>\n",
              "        const buttonEl =\n",
              "          document.querySelector('#df-10029bb8-8c28-4fc6-a355-c58008fc5bc3 button.colab-df-convert');\n",
              "        buttonEl.style.display =\n",
              "          google.colab.kernel.accessAllowed ? 'block' : 'none';\n",
              "\n",
              "        async function convertToInteractive(key) {\n",
              "          const element = document.querySelector('#df-10029bb8-8c28-4fc6-a355-c58008fc5bc3');\n",
              "          const dataTable =\n",
              "            await google.colab.kernel.invokeFunction('convertToInteractive',\n",
              "                                                     [key], {});\n",
              "          if (!dataTable) return;\n",
              "\n",
              "          const docLinkHtml = 'Like what you see? Visit the ' +\n",
              "            '<a target=\"_blank\" href=https://colab.research.google.com/notebooks/data_table.ipynb>data table notebook</a>'\n",
              "            + ' to learn more about interactive tables.';\n",
              "          element.innerHTML = '';\n",
              "          dataTable['output_type'] = 'display_data';\n",
              "          await google.colab.output.renderOutput(dataTable, element);\n",
              "          const docLink = document.createElement('div');\n",
              "          docLink.innerHTML = docLinkHtml;\n",
              "          element.appendChild(docLink);\n",
              "        }\n",
              "      </script>\n",
              "    </div>\n",
              "  </div>\n",
              "  "
            ]
          },
          "metadata": {},
          "execution_count": 6
        }
      ],
      "source": [
        "df = pd.read_csv('international_matches_clean.csv')\n",
        "df.head()"
      ]
    },
    {
      "cell_type": "code",
      "execution_count": 73,
      "metadata": {
        "id": "StX_2eH_NBO-"
      },
      "outputs": [],
      "source": [
        "X = df[df.columns.difference(['result'])]\n",
        "y = np.array(df['result'])"
      ]
    },
    {
      "cell_type": "code",
      "execution_count": 74,
      "metadata": {
        "id": "gFjQicyiNVwF"
      },
      "outputs": [],
      "source": [
        "X_train, X_test, y_train, y_test = train_test_split(X, y, test_size=0.3, random_state=0)"
      ]
    },
    {
      "cell_type": "markdown",
      "metadata": {
        "id": "E_wjxlQEc5m-"
      },
      "source": [
        "# **Random Forest**"
      ]
    },
    {
      "cell_type": "code",
      "execution_count": null,
      "metadata": {
        "id": "0EGLZSz1NGE2"
      },
      "outputs": [],
      "source": [
        "param = {'n_estimators': [5, 10, 25, 40, 50, 75, 100, 200], \n",
        "         'criterion': ['gini', 'entropy'], \n",
        "         'max_depth': [None, 1, 2, 3, 5, 8, 9,10,15],\n",
        "         'min_samples_leaf': [1,2,3,5,10]}\n",
        "\n",
        "cv = 3\n",
        "iter = 40\n",
        "\n",
        "rf = RandomForestClassifier(random_state=0);\n",
        "rf_bs = BayesSearchCV(rf, param, n_iter=iter, cv=cv, n_jobs=-1, refit=True, random_state=0);\n",
        "rf_bs.fit(X_train, y_train);"
      ]
    },
    {
      "cell_type": "code",
      "execution_count": 82,
      "metadata": {
        "colab": {
          "base_uri": "https://localhost:8080/",
          "height": 206
        },
        "id": "VwoMUnNMbl60",
        "outputId": "aea3de14-20fe-4c21-9ab7-6f2fcfe3f703"
      },
      "outputs": [
        {
          "output_type": "display_data",
          "data": {
            "text/plain": [
              "<IPython.core.display.HTML object>"
            ],
            "text/html": [
              "<table border=\"1\" class=\"dataframe\">\n",
              "  <thead>\n",
              "    <tr style=\"text-align: right;\">\n",
              "      <th></th>\n",
              "      <th>params</th>\n",
              "      <th>mean_test_score</th>\n",
              "      <th>rank_test_score</th>\n",
              "    </tr>\n",
              "  </thead>\n",
              "  <tbody>\n",
              "    <tr>\n",
              "      <th>11</th>\n",
              "      <td>{'criterion': 'gini', 'max_depth': 8, 'min_samples_leaf': 3, 'n_estimators': 100}</td>\n",
              "      <td>0.292</td>\n",
              "      <td>1</td>\n",
              "    </tr>\n",
              "    <tr>\n",
              "      <th>0</th>\n",
              "      <td>{'criterion': 'gini', 'max_depth': 8, 'min_samples_leaf': 3, 'n_estimators': 75}</td>\n",
              "      <td>0.291</td>\n",
              "      <td>2</td>\n",
              "    </tr>\n",
              "    <tr>\n",
              "      <th>21</th>\n",
              "      <td>{'criterion': 'entropy', 'max_depth': 3, 'min_samples_leaf': 3, 'n_estimators': 25}</td>\n",
              "      <td>0.287</td>\n",
              "      <td>3</td>\n",
              "    </tr>\n",
              "    <tr>\n",
              "      <th>15</th>\n",
              "      <td>{'criterion': 'gini', 'max_depth': 3, 'min_samples_leaf': 3, 'n_estimators': 10}</td>\n",
              "      <td>0.287</td>\n",
              "      <td>4</td>\n",
              "    </tr>\n",
              "    <tr>\n",
              "      <th>4</th>\n",
              "      <td>{'criterion': 'entropy', 'max_depth': 2, 'min_samples_leaf': 5, 'n_estimators': 25}</td>\n",
              "      <td>0.287</td>\n",
              "      <td>5</td>\n",
              "    </tr>\n",
              "  </tbody>\n",
              "</table>"
            ]
          },
          "metadata": {}
        }
      ],
      "source": [
        "show_html(pd.DataFrame(rf_bs.cv_results_).loc[:,['params', 'mean_test_score','rank_test_score']].sort_values(by='rank_test_score').head().to_html())"
      ]
    },
    {
      "cell_type": "code",
      "execution_count": 85,
      "metadata": {
        "colab": {
          "base_uri": "https://localhost:8080/"
        },
        "id": "YhVOO5KNd0P3",
        "outputId": "4403afae-b7a8-4550-a445-7fa0b2f85256"
      },
      "outputs": [
        {
          "output_type": "stream",
          "name": "stdout",
          "text": [
            "              precision    recall  f1-score   support\n",
            "\n",
            "        -5.0       0.00      0.00      0.00         0\n",
            "        -4.0       0.00      0.00      0.00         0\n",
            "        -3.0       0.00      0.00      0.00         0\n",
            "        -2.0       0.01      0.20      0.02         5\n",
            "        -1.0       0.20      0.26      0.23       167\n",
            "         0.0       0.49      0.29      0.36       610\n",
            "         1.0       0.46      0.26      0.33       487\n",
            "         2.0       0.02      0.24      0.04        17\n",
            "         3.0       0.01      0.20      0.03         5\n",
            "         4.0       0.00      0.00      0.00         0\n",
            "         5.0       0.00      0.00      0.00         0\n",
            "         6.0       0.00      0.00      0.00         0\n",
            "         7.0       0.00      0.00      0.00         0\n",
            "\n",
            "    accuracy                           0.27      1291\n",
            "   macro avg       0.09      0.11      0.08      1291\n",
            "weighted avg       0.43      0.27      0.33      1291\n",
            "\n"
          ]
        }
      ],
      "source": [
        "print(classification_report(rf_bs.predict(X_test), y_test.squeeze(), zero_division=0))"
      ]
    },
    {
      "cell_type": "markdown",
      "metadata": {
        "id": "0IKZWKIwdFHV"
      },
      "source": [
        "# **SVM con kernel RBF**"
      ]
    },
    {
      "cell_type": "code",
      "execution_count": null,
      "metadata": {
        "id": "YCms9-hJT5Y3"
      },
      "outputs": [],
      "source": [
        "param = {'C':10**np.linspace(-3,3,101), 'gamma':['scale','auto']}\n",
        "\n",
        "cv = 3\n",
        "niter = 40\n",
        "\n",
        "rbsvc =  SVC(kernel='rbf', max_iter=25000, random_state=0)\n",
        "rbsvc_gs = BayesSearchCV(rbsvc,param,n_iter=niter, cv=cv, n_jobs=-1, refit=True, random_state=0)\n",
        "rbsvc_gs.fit(X_train, y_train.squeeze());"
      ]
    },
    {
      "cell_type": "code",
      "execution_count": 87,
      "metadata": {
        "colab": {
          "base_uri": "https://localhost:8080/",
          "height": 206
        },
        "id": "enOIcwhVYR9s",
        "outputId": "2f976db2-d2ca-467e-f440-e971eb949b55"
      },
      "outputs": [
        {
          "output_type": "display_data",
          "data": {
            "text/plain": [
              "<IPython.core.display.HTML object>"
            ],
            "text/html": [
              "<table border=\"1\" class=\"dataframe\">\n",
              "  <thead>\n",
              "    <tr style=\"text-align: right;\">\n",
              "      <th></th>\n",
              "      <th>params</th>\n",
              "      <th>mean_test_score</th>\n",
              "      <th>rank_test_score</th>\n",
              "    </tr>\n",
              "  </thead>\n",
              "  <tbody>\n",
              "    <tr>\n",
              "      <th>19</th>\n",
              "      <td>{'C': 1.9952623149688788, 'gamma': 'auto'}</td>\n",
              "      <td>0.285</td>\n",
              "      <td>1</td>\n",
              "    </tr>\n",
              "    <tr>\n",
              "      <th>2</th>\n",
              "      <td>{'C': 1.513561248436207, 'gamma': 'auto'}</td>\n",
              "      <td>0.283</td>\n",
              "      <td>2</td>\n",
              "    </tr>\n",
              "    <tr>\n",
              "      <th>28</th>\n",
              "      <td>{'C': 0.43651583224016566, 'gamma': 'scale'}</td>\n",
              "      <td>0.281</td>\n",
              "      <td>3</td>\n",
              "    </tr>\n",
              "    <tr>\n",
              "      <th>26</th>\n",
              "      <td>{'C': 0.38018939632056126, 'gamma': 'scale'}</td>\n",
              "      <td>0.280</td>\n",
              "      <td>4</td>\n",
              "    </tr>\n",
              "    <tr>\n",
              "      <th>0</th>\n",
              "      <td>{'C': 1.513561248436207, 'gamma': 'scale'}</td>\n",
              "      <td>0.279</td>\n",
              "      <td>5</td>\n",
              "    </tr>\n",
              "  </tbody>\n",
              "</table>"
            ]
          },
          "metadata": {}
        }
      ],
      "source": [
        "show_html(pd.DataFrame(rbsvc_gs.cv_results_).loc[:,['params', 'mean_test_score','rank_test_score']].sort_values(by='rank_test_score').head().to_html())"
      ]
    },
    {
      "cell_type": "code",
      "execution_count": 88,
      "metadata": {
        "colab": {
          "base_uri": "https://localhost:8080/"
        },
        "id": "_OS52nU4dZf3",
        "outputId": "ffa7c590-eda5-43b4-f563-445c04425ee2"
      },
      "outputs": [
        {
          "output_type": "stream",
          "name": "stdout",
          "text": [
            "              precision    recall  f1-score   support\n",
            "\n",
            "        -5.0       0.00      0.00      0.00         0\n",
            "        -4.0       0.00      0.00      0.00         0\n",
            "        -3.0       0.00      0.00      0.00         0\n",
            "        -2.0       0.00      0.00      0.00         0\n",
            "        -1.0       0.00      0.00      0.00         0\n",
            "         0.0       0.71      0.29      0.41       863\n",
            "         1.0       0.43      0.28      0.34       428\n",
            "         2.0       0.00      0.00      0.00         0\n",
            "         3.0       0.00      0.00      0.00         0\n",
            "         4.0       0.00      0.00      0.00         0\n",
            "         5.0       0.00      0.00      0.00         0\n",
            "         6.0       0.00      0.00      0.00         0\n",
            "         7.0       0.00      0.00      0.00         0\n",
            "\n",
            "    accuracy                           0.29      1291\n",
            "   macro avg       0.09      0.04      0.06      1291\n",
            "weighted avg       0.62      0.29      0.39      1291\n",
            "\n"
          ]
        }
      ],
      "source": [
        "print(classification_report(rbsvc_gs.predict(X_test), y_test.squeeze(), zero_division=0))"
      ]
    },
    {
      "cell_type": "markdown",
      "metadata": {
        "id": "7lizbrrFdrht"
      },
      "source": [
        "# **MLP**"
      ]
    },
    {
      "cell_type": "code",
      "execution_count": 90,
      "metadata": {
        "id": "NiPwtD3lWO3e"
      },
      "outputs": [],
      "source": [
        "sdscaler = StandardScaler()\n",
        "\n",
        "X_train_sd = sdscaler.fit_transform(X_train)\n",
        "X_test_sd = sdscaler.transform(X_test)"
      ]
    },
    {
      "cell_type": "code",
      "source": [
        "mlp = MLPClassifier(max_iter=10000, early_stopping=True, n_iter_no_change=15, random_state=0)\n",
        "print(np.mean(cross_val_score(mlp,X_train_sd,y_train,cv=10)))"
      ],
      "metadata": {
        "colab": {
          "base_uri": "https://localhost:8080/"
        },
        "id": "rrKLe6clR2Hu",
        "outputId": "71e02ede-f9e6-48d3-ef37-00f961334ea0"
      },
      "execution_count": 105,
      "outputs": [
        {
          "output_type": "stream",
          "name": "stdout",
          "text": [
            "0.2739015643220171\n"
          ]
        }
      ]
    },
    {
      "cell_type": "code",
      "execution_count": null,
      "metadata": {
        "id": "H2Fn6Gm5Y3wx"
      },
      "outputs": [],
      "source": [
        "param = {'hidden_layer_sizes':[10, 50, 100, 200], \n",
        "         'activation':['relu', 'logistic', 'identity'], \n",
        "         'learning_rate_init': [0.001, 0.01, 0.1]  }\n",
        "\n",
        "mlp =  MLPClassifier(max_iter=10000, early_stopping=True, n_iter_no_change=20,learning_rate='adaptive',random_state=0)\n",
        "mlp_gs =  GridSearchCV(mlp,param,cv=3, n_jobs=-1, refit=True)\n",
        "mlp_gs.fit(X_train, y_train);"
      ]
    },
    {
      "cell_type": "code",
      "execution_count": 103,
      "metadata": {
        "colab": {
          "base_uri": "https://localhost:8080/",
          "height": 206
        },
        "id": "f785Q-t6Y-a-",
        "outputId": "50464951-b5be-48bd-a6f9-0bc663a3642f"
      },
      "outputs": [
        {
          "output_type": "display_data",
          "data": {
            "text/plain": [
              "<IPython.core.display.HTML object>"
            ],
            "text/html": [
              "<table border=\"1\" class=\"dataframe\">\n",
              "  <thead>\n",
              "    <tr style=\"text-align: right;\">\n",
              "      <th></th>\n",
              "      <th>params</th>\n",
              "      <th>mean_test_score</th>\n",
              "      <th>rank_test_score</th>\n",
              "    </tr>\n",
              "  </thead>\n",
              "  <tbody>\n",
              "    <tr>\n",
              "      <th>20</th>\n",
              "      <td>{'activation': 'logistic', 'hidden_layer_sizes': 100, 'learning_rate_init': 0.1}</td>\n",
              "      <td>0.293</td>\n",
              "      <td>1</td>\n",
              "    </tr>\n",
              "    <tr>\n",
              "      <th>14</th>\n",
              "      <td>{'activation': 'logistic', 'hidden_layer_sizes': 10, 'learning_rate_init': 0.1}</td>\n",
              "      <td>0.291</td>\n",
              "      <td>2</td>\n",
              "    </tr>\n",
              "    <tr>\n",
              "      <th>33</th>\n",
              "      <td>{'activation': 'identity', 'hidden_layer_sizes': 200, 'learning_rate_init': 0.001}</td>\n",
              "      <td>0.289</td>\n",
              "      <td>3</td>\n",
              "    </tr>\n",
              "    <tr>\n",
              "      <th>13</th>\n",
              "      <td>{'activation': 'logistic', 'hidden_layer_sizes': 10, 'learning_rate_init': 0.01}</td>\n",
              "      <td>0.287</td>\n",
              "      <td>4</td>\n",
              "    </tr>\n",
              "    <tr>\n",
              "      <th>19</th>\n",
              "      <td>{'activation': 'logistic', 'hidden_layer_sizes': 100, 'learning_rate_init': 0.01}</td>\n",
              "      <td>0.286</td>\n",
              "      <td>5</td>\n",
              "    </tr>\n",
              "  </tbody>\n",
              "</table>"
            ]
          },
          "metadata": {}
        }
      ],
      "source": [
        "show_html(pd.DataFrame(mlp_gs.cv_results_).loc[:,['params', 'mean_test_score','rank_test_score']].sort_values(by='rank_test_score').head().to_html())"
      ]
    }
  ],
  "metadata": {
    "colab": {
      "provenance": []
    },
    "kernelspec": {
      "display_name": "AprenentatgeAutomatic",
      "language": "python",
      "name": "python3"
    },
    "language_info": {
      "codemirror_mode": {
        "name": "ipython",
        "version": 3
      },
      "file_extension": ".py",
      "mimetype": "text/x-python",
      "name": "python",
      "nbconvert_exporter": "python",
      "pygments_lexer": "ipython3",
      "version": "3.9.13"
    },
    "vscode": {
      "interpreter": {
        "hash": "051e2a7455ef7de55727fc6194105a963458f6ab7bfa3795f7d8c3e8e4a34bf0"
      }
    }
  },
  "nbformat": 4,
  "nbformat_minor": 0
}