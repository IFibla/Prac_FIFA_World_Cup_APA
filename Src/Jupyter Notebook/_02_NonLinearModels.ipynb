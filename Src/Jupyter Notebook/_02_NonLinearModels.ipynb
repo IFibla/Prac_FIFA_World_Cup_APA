{
  "nbformat": 4,
  "nbformat_minor": 0,
  "metadata": {
    "colab": {
      "provenance": []
    },
    "kernelspec": {
      "name": "python3",
      "display_name": "Python 3"
    },
    "language_info": {
      "name": "python"
    }
  },
  "cells": [
    {
      "cell_type": "code",
      "source": [
        "#!pip install scikit-optimize --user --quiet"
      ],
      "metadata": {
        "id": "m0TqD8j3VBo0"
      },
      "execution_count": 50,
      "outputs": []
    },
    {
      "cell_type": "code",
      "source": [
        "import pandas as pd\n",
        "from sklearn.svm import SVC, LinearSVC\n",
        "from sklearn.metrics import confusion_matrix, mean_squared_error, make_scorer, mean_absolute_error\n",
        "\n",
        "import numpy as np\n",
        "\n",
        "from sklearn.ensemble import RandomForestClassifier, GradientBoostingClassifier\n",
        "\n",
        "from sklearn.metrics import classification_report\n",
        "\n",
        "from sklearn.preprocessing import StandardScaler\n",
        "\n",
        "from sklearn.decomposition import PCA\n",
        "from sklearn.manifold import LocallyLinearEmbedding\n",
        "\n",
        "from sklearn.neural_network import MLPClassifier, MLPRegressor\n",
        "from sklearn.neighbors import KNeighborsClassifier, KNeighborsRegressor\n",
        "\n",
        "from sklearn.model_selection import GridSearchCV,train_test_split, cross_val_score, TimeSeriesSplit\n",
        "\n",
        "from yellowbrick.classifier.rocauc import roc_auc\n",
        "from yellowbrick.target.feature_correlation import feature_correlation\n",
        "from yellowbrick.classifier import precision_recall_curve\n",
        "\n",
        "import warnings\n",
        "\n",
        "from skopt import BayesSearchCV\n",
        "\n",
        "pd.set_option('display.precision', 3)\n"
      ],
      "metadata": {
        "id": "zBYx-grnMgYc"
      },
      "execution_count": 60,
      "outputs": []
    },
    {
      "cell_type": "code",
      "source": [
        "from IPython.display import display, HTML\n",
        "show_html = lambda html: display(HTML(html))"
      ],
      "metadata": {
        "id": "973RGVOPZSRp"
      },
      "execution_count": 42,
      "outputs": []
    },
    {
      "cell_type": "code",
      "execution_count": 43,
      "metadata": {
        "colab": {
          "base_uri": "https://localhost:8080/",
          "height": 270
        },
        "id": "_ttQoYYfMVlJ",
        "outputId": "a0916a6c-7881-48e6-f976-d2c705095c35"
      },
      "outputs": [
        {
          "output_type": "execute_result",
          "data": {
            "text/plain": [
              "   home_team_continent  away_team_continent  home_team_fifa_rank  \\\n",
              "0                    2                    2                    3   \n",
              "1                    2                    2                   90   \n",
              "2                    2                    2                   25   \n",
              "3                    2                    2                   80   \n",
              "4                    2                    2                    9   \n",
              "\n",
              "   away_team_fifa_rank  home_team_total_fifa_points  \\\n",
              "0                   67                            0   \n",
              "1                    7                            0   \n",
              "2                   76                            0   \n",
              "3                   41                            0   \n",
              "4                   38                            0   \n",
              "\n",
              "   away_team_total_fifa_points  shoot_out  home_team_goalkeeper_score  \\\n",
              "0                            0          0                        94.0   \n",
              "1                            0          0                        83.0   \n",
              "2                            0          0                        77.0   \n",
              "3                            0          0                        78.0   \n",
              "4                            0          0                        97.0   \n",
              "\n",
              "   away_team_goalkeeper_score  home_team_mean_defense_score  \\\n",
              "0                        84.0                          86.5   \n",
              "1                        88.0                          76.2   \n",
              "2                        74.0                          80.5   \n",
              "3                        78.0                          68.8   \n",
              "4                        79.0                          91.8   \n",
              "\n",
              "   home_team_mean_offense_score  home_team_mean_midfield_score  \\\n",
              "0                          89.3                           89.5   \n",
              "1                          73.0                           74.0   \n",
              "2                          78.7                           79.0   \n",
              "3                          77.0                           69.2   \n",
              "4                          92.3                           87.5   \n",
              "\n",
              "   away_team_mean_defense_score  away_team_mean_offense_score  \\\n",
              "0                          80.2                          79.7   \n",
              "1                          90.5                          88.7   \n",
              "2                          71.8                          75.7   \n",
              "3                          70.5                          79.7   \n",
              "4                          79.2                          81.3   \n",
              "\n",
              "   away_team_mean_midfield_score  home_team_score  away_team_score  \n",
              "0                           81.8                1                1  \n",
              "1                           91.2                2                2  \n",
              "2                           70.2                3                0  \n",
              "3                           78.5                1                3  \n",
              "4                           79.0                2                1  "
            ],
            "text/html": [
              "\n",
              "  <div id=\"df-57a90022-63e9-4ca3-8a2b-d905f4f55fc4\">\n",
              "    <div class=\"colab-df-container\">\n",
              "      <div>\n",
              "<style scoped>\n",
              "    .dataframe tbody tr th:only-of-type {\n",
              "        vertical-align: middle;\n",
              "    }\n",
              "\n",
              "    .dataframe tbody tr th {\n",
              "        vertical-align: top;\n",
              "    }\n",
              "\n",
              "    .dataframe thead th {\n",
              "        text-align: right;\n",
              "    }\n",
              "</style>\n",
              "<table border=\"1\" class=\"dataframe\">\n",
              "  <thead>\n",
              "    <tr style=\"text-align: right;\">\n",
              "      <th></th>\n",
              "      <th>home_team_continent</th>\n",
              "      <th>away_team_continent</th>\n",
              "      <th>home_team_fifa_rank</th>\n",
              "      <th>away_team_fifa_rank</th>\n",
              "      <th>home_team_total_fifa_points</th>\n",
              "      <th>away_team_total_fifa_points</th>\n",
              "      <th>shoot_out</th>\n",
              "      <th>home_team_goalkeeper_score</th>\n",
              "      <th>away_team_goalkeeper_score</th>\n",
              "      <th>home_team_mean_defense_score</th>\n",
              "      <th>home_team_mean_offense_score</th>\n",
              "      <th>home_team_mean_midfield_score</th>\n",
              "      <th>away_team_mean_defense_score</th>\n",
              "      <th>away_team_mean_offense_score</th>\n",
              "      <th>away_team_mean_midfield_score</th>\n",
              "      <th>home_team_score</th>\n",
              "      <th>away_team_score</th>\n",
              "    </tr>\n",
              "  </thead>\n",
              "  <tbody>\n",
              "    <tr>\n",
              "      <th>0</th>\n",
              "      <td>2</td>\n",
              "      <td>2</td>\n",
              "      <td>3</td>\n",
              "      <td>67</td>\n",
              "      <td>0</td>\n",
              "      <td>0</td>\n",
              "      <td>0</td>\n",
              "      <td>94.0</td>\n",
              "      <td>84.0</td>\n",
              "      <td>86.5</td>\n",
              "      <td>89.3</td>\n",
              "      <td>89.5</td>\n",
              "      <td>80.2</td>\n",
              "      <td>79.7</td>\n",
              "      <td>81.8</td>\n",
              "      <td>1</td>\n",
              "      <td>1</td>\n",
              "    </tr>\n",
              "    <tr>\n",
              "      <th>1</th>\n",
              "      <td>2</td>\n",
              "      <td>2</td>\n",
              "      <td>90</td>\n",
              "      <td>7</td>\n",
              "      <td>0</td>\n",
              "      <td>0</td>\n",
              "      <td>0</td>\n",
              "      <td>83.0</td>\n",
              "      <td>88.0</td>\n",
              "      <td>76.2</td>\n",
              "      <td>73.0</td>\n",
              "      <td>74.0</td>\n",
              "      <td>90.5</td>\n",
              "      <td>88.7</td>\n",
              "      <td>91.2</td>\n",
              "      <td>2</td>\n",
              "      <td>2</td>\n",
              "    </tr>\n",
              "    <tr>\n",
              "      <th>2</th>\n",
              "      <td>2</td>\n",
              "      <td>2</td>\n",
              "      <td>25</td>\n",
              "      <td>76</td>\n",
              "      <td>0</td>\n",
              "      <td>0</td>\n",
              "      <td>0</td>\n",
              "      <td>77.0</td>\n",
              "      <td>74.0</td>\n",
              "      <td>80.5</td>\n",
              "      <td>78.7</td>\n",
              "      <td>79.0</td>\n",
              "      <td>71.8</td>\n",
              "      <td>75.7</td>\n",
              "      <td>70.2</td>\n",
              "      <td>3</td>\n",
              "      <td>0</td>\n",
              "    </tr>\n",
              "    <tr>\n",
              "      <th>3</th>\n",
              "      <td>2</td>\n",
              "      <td>2</td>\n",
              "      <td>80</td>\n",
              "      <td>41</td>\n",
              "      <td>0</td>\n",
              "      <td>0</td>\n",
              "      <td>0</td>\n",
              "      <td>78.0</td>\n",
              "      <td>78.0</td>\n",
              "      <td>68.8</td>\n",
              "      <td>77.0</td>\n",
              "      <td>69.2</td>\n",
              "      <td>70.5</td>\n",
              "      <td>79.7</td>\n",
              "      <td>78.5</td>\n",
              "      <td>1</td>\n",
              "      <td>3</td>\n",
              "    </tr>\n",
              "    <tr>\n",
              "      <th>4</th>\n",
              "      <td>2</td>\n",
              "      <td>2</td>\n",
              "      <td>9</td>\n",
              "      <td>38</td>\n",
              "      <td>0</td>\n",
              "      <td>0</td>\n",
              "      <td>0</td>\n",
              "      <td>97.0</td>\n",
              "      <td>79.0</td>\n",
              "      <td>91.8</td>\n",
              "      <td>92.3</td>\n",
              "      <td>87.5</td>\n",
              "      <td>79.2</td>\n",
              "      <td>81.3</td>\n",
              "      <td>79.0</td>\n",
              "      <td>2</td>\n",
              "      <td>1</td>\n",
              "    </tr>\n",
              "  </tbody>\n",
              "</table>\n",
              "</div>\n",
              "      <button class=\"colab-df-convert\" onclick=\"convertToInteractive('df-57a90022-63e9-4ca3-8a2b-d905f4f55fc4')\"\n",
              "              title=\"Convert this dataframe to an interactive table.\"\n",
              "              style=\"display:none;\">\n",
              "        \n",
              "  <svg xmlns=\"http://www.w3.org/2000/svg\" height=\"24px\"viewBox=\"0 0 24 24\"\n",
              "       width=\"24px\">\n",
              "    <path d=\"M0 0h24v24H0V0z\" fill=\"none\"/>\n",
              "    <path d=\"M18.56 5.44l.94 2.06.94-2.06 2.06-.94-2.06-.94-.94-2.06-.94 2.06-2.06.94zm-11 1L8.5 8.5l.94-2.06 2.06-.94-2.06-.94L8.5 2.5l-.94 2.06-2.06.94zm10 10l.94 2.06.94-2.06 2.06-.94-2.06-.94-.94-2.06-.94 2.06-2.06.94z\"/><path d=\"M17.41 7.96l-1.37-1.37c-.4-.4-.92-.59-1.43-.59-.52 0-1.04.2-1.43.59L10.3 9.45l-7.72 7.72c-.78.78-.78 2.05 0 2.83L4 21.41c.39.39.9.59 1.41.59.51 0 1.02-.2 1.41-.59l7.78-7.78 2.81-2.81c.8-.78.8-2.07 0-2.86zM5.41 20L4 18.59l7.72-7.72 1.47 1.35L5.41 20z\"/>\n",
              "  </svg>\n",
              "      </button>\n",
              "      \n",
              "  <style>\n",
              "    .colab-df-container {\n",
              "      display:flex;\n",
              "      flex-wrap:wrap;\n",
              "      gap: 12px;\n",
              "    }\n",
              "\n",
              "    .colab-df-convert {\n",
              "      background-color: #E8F0FE;\n",
              "      border: none;\n",
              "      border-radius: 50%;\n",
              "      cursor: pointer;\n",
              "      display: none;\n",
              "      fill: #1967D2;\n",
              "      height: 32px;\n",
              "      padding: 0 0 0 0;\n",
              "      width: 32px;\n",
              "    }\n",
              "\n",
              "    .colab-df-convert:hover {\n",
              "      background-color: #E2EBFA;\n",
              "      box-shadow: 0px 1px 2px rgba(60, 64, 67, 0.3), 0px 1px 3px 1px rgba(60, 64, 67, 0.15);\n",
              "      fill: #174EA6;\n",
              "    }\n",
              "\n",
              "    [theme=dark] .colab-df-convert {\n",
              "      background-color: #3B4455;\n",
              "      fill: #D2E3FC;\n",
              "    }\n",
              "\n",
              "    [theme=dark] .colab-df-convert:hover {\n",
              "      background-color: #434B5C;\n",
              "      box-shadow: 0px 1px 3px 1px rgba(0, 0, 0, 0.15);\n",
              "      filter: drop-shadow(0px 1px 2px rgba(0, 0, 0, 0.3));\n",
              "      fill: #FFFFFF;\n",
              "    }\n",
              "  </style>\n",
              "\n",
              "      <script>\n",
              "        const buttonEl =\n",
              "          document.querySelector('#df-57a90022-63e9-4ca3-8a2b-d905f4f55fc4 button.colab-df-convert');\n",
              "        buttonEl.style.display =\n",
              "          google.colab.kernel.accessAllowed ? 'block' : 'none';\n",
              "\n",
              "        async function convertToInteractive(key) {\n",
              "          const element = document.querySelector('#df-57a90022-63e9-4ca3-8a2b-d905f4f55fc4');\n",
              "          const dataTable =\n",
              "            await google.colab.kernel.invokeFunction('convertToInteractive',\n",
              "                                                     [key], {});\n",
              "          if (!dataTable) return;\n",
              "\n",
              "          const docLinkHtml = 'Like what you see? Visit the ' +\n",
              "            '<a target=\"_blank\" href=https://colab.research.google.com/notebooks/data_table.ipynb>data table notebook</a>'\n",
              "            + ' to learn more about interactive tables.';\n",
              "          element.innerHTML = '';\n",
              "          dataTable['output_type'] = 'display_data';\n",
              "          await google.colab.output.renderOutput(dataTable, element);\n",
              "          const docLink = document.createElement('div');\n",
              "          docLink.innerHTML = docLinkHtml;\n",
              "          element.appendChild(docLink);\n",
              "        }\n",
              "      </script>\n",
              "    </div>\n",
              "  </div>\n",
              "  "
            ]
          },
          "metadata": {},
          "execution_count": 43
        }
      ],
      "source": [
        "df = pd.read_csv('international_matches_clean.csv')\n",
        "df.head()"
      ]
    },
    {
      "cell_type": "code",
      "source": [
        "X = df[df.columns.difference(['home_team_score', 'away_team_score'])]\n",
        "y = df[['home_team_score', 'away_team_score']]"
      ],
      "metadata": {
        "id": "StX_2eH_NBO-"
      },
      "execution_count": 44,
      "outputs": []
    },
    {
      "cell_type": "code",
      "source": [
        "X_train, X_test, y_trainF, y_testF = train_test_split(X, y, test_size=0.3, random_state=0)"
      ],
      "metadata": {
        "id": "gFjQicyiNVwF"
      },
      "execution_count": 45,
      "outputs": []
    },
    {
      "cell_type": "code",
      "source": [
        "y_train = y_trainF['home_team_score'] - y_trainF['away_team_score']\n",
        "y_test = y_testF['home_team_score'] - y_testF['away_team_score']\n"
      ],
      "metadata": {
        "id": "T2-BL3OuXwPv"
      },
      "execution_count": 46,
      "outputs": []
    },
    {
      "cell_type": "markdown",
      "source": [
        "# **Random Forest**"
      ],
      "metadata": {
        "id": "E_wjxlQEc5m-"
      }
    },
    {
      "cell_type": "code",
      "source": [
        "param = {'n_estimators': [5,10,25,40, 50, 75,100, 200], \n",
        "         'criterion':['gini', 'entropy'], \n",
        "         'max_depth':[None, 1, 2, 3,  5,  8, 9,10,15],\n",
        "         'min_samples_leaf':[1,2,3,5,10]}\n",
        "\n",
        "cv = 5\n",
        "\n",
        "rf =  RandomForestClassifier(random_state=0)\n",
        "rf_bs =  BayesSearchCV(rf,param,n_iter=iter, cv=cv, n_jobs=-1, refit=True, random_state=0)\n",
        "rf_bs.fit(X_train, y_train)"
      ],
      "metadata": {
        "colab": {
          "base_uri": "https://localhost:8080/"
        },
        "id": "0EGLZSz1NGE2",
        "outputId": "8bf9bdcc-e1c4-448c-9a94-f99151da710d"
      },
      "execution_count": 47,
      "outputs": [
        {
          "output_type": "execute_result",
          "data": {
            "text/plain": [
              "BayesSearchCV(cv=5, estimator=RandomForestClassifier(random_state=0), n_iter=40,\n",
              "              n_jobs=-1, random_state=0,\n",
              "              search_spaces={'criterion': ['gini', 'entropy'],\n",
              "                             'max_depth': [None, 1, 2, 3, 5, 8, 9, 10, 15],\n",
              "                             'min_samples_leaf': [1, 2, 3, 5, 10],\n",
              "                             'n_estimators': [5, 10, 25, 40, 50, 75, 100, 200]})"
            ]
          },
          "metadata": {},
          "execution_count": 47
        }
      ]
    },
    {
      "cell_type": "code",
      "source": [
        "show_html(pd.DataFrame(rf_bs.cv_results_).loc[:,['params', 'mean_test_score','rank_test_score']].sort_values(by='rank_test_score').head().to_html())"
      ],
      "metadata": {
        "colab": {
          "base_uri": "https://localhost:8080/",
          "height": 206
        },
        "id": "VwoMUnNMbl60",
        "outputId": "8f3c677e-e884-4046-f132-144d9bc333fd"
      },
      "execution_count": 48,
      "outputs": [
        {
          "output_type": "display_data",
          "data": {
            "text/plain": [
              "<IPython.core.display.HTML object>"
            ],
            "text/html": [
              "<table border=\"1\" class=\"dataframe\">\n",
              "  <thead>\n",
              "    <tr style=\"text-align: right;\">\n",
              "      <th></th>\n",
              "      <th>params</th>\n",
              "      <th>mean_test_score</th>\n",
              "      <th>rank_test_score</th>\n",
              "    </tr>\n",
              "  </thead>\n",
              "  <tbody>\n",
              "    <tr>\n",
              "      <th>30</th>\n",
              "      <td>{'criterion': 'gini', 'max_depth': 5, 'min_samples_leaf': 3, 'n_estimators': 100}</td>\n",
              "      <td>0.295</td>\n",
              "      <td>1</td>\n",
              "    </tr>\n",
              "    <tr>\n",
              "      <th>16</th>\n",
              "      <td>{'criterion': 'gini', 'max_depth': 5, 'min_samples_leaf': 2, 'n_estimators': 100}</td>\n",
              "      <td>0.293</td>\n",
              "      <td>2</td>\n",
              "    </tr>\n",
              "    <tr>\n",
              "      <th>31</th>\n",
              "      <td>{'criterion': 'gini', 'max_depth': 5, 'min_samples_leaf': 3, 'n_estimators': 75}</td>\n",
              "      <td>0.292</td>\n",
              "      <td>3</td>\n",
              "    </tr>\n",
              "    <tr>\n",
              "      <th>9</th>\n",
              "      <td>{'criterion': 'entropy', 'max_depth': 5, 'min_samples_leaf': 2, 'n_estimators': 100}</td>\n",
              "      <td>0.291</td>\n",
              "      <td>4</td>\n",
              "    </tr>\n",
              "    <tr>\n",
              "      <th>12</th>\n",
              "      <td>{'criterion': 'entropy', 'max_depth': 5, 'min_samples_leaf': 1, 'n_estimators': 100}</td>\n",
              "      <td>0.291</td>\n",
              "      <td>5</td>\n",
              "    </tr>\n",
              "  </tbody>\n",
              "</table>"
            ]
          },
          "metadata": {}
        }
      ]
    },
    {
      "cell_type": "code",
      "source": [
        "print(classification_report(rf_bs.predict(X_test), y_test))"
      ],
      "metadata": {
        "colab": {
          "base_uri": "https://localhost:8080/"
        },
        "id": "YhVOO5KNd0P3",
        "outputId": "78221652-e3ee-4ea0-96a6-a61ffce95251"
      },
      "execution_count": 53,
      "outputs": [
        {
          "output_type": "stream",
          "name": "stdout",
          "text": [
            "              precision    recall  f1-score   support\n",
            "\n",
            "          -5       0.00      0.00      0.00         0\n",
            "          -4       0.00      0.00      0.00         0\n",
            "          -3       0.00      0.00      0.00         0\n",
            "          -2       0.00      0.00      0.00         0\n",
            "          -1       0.15      0.33      0.21       101\n",
            "           0       0.59      0.30      0.40       692\n",
            "           1       0.48      0.27      0.35       497\n",
            "           2       0.00      0.00      0.00         1\n",
            "           3       0.00      0.00      0.00         0\n",
            "           4       0.00      0.00      0.00         0\n",
            "           5       0.00      0.00      0.00         0\n",
            "           6       0.00      0.00      0.00         0\n",
            "           7       0.00      0.00      0.00         0\n",
            "\n",
            "    accuracy                           0.29      1291\n",
            "   macro avg       0.09      0.07      0.07      1291\n",
            "weighted avg       0.51      0.29      0.36      1291\n",
            "\n"
          ]
        }
      ]
    },
    {
      "cell_type": "markdown",
      "source": [
        "# **SVM con kernel RBF**"
      ],
      "metadata": {
        "id": "0IKZWKIwdFHV"
      }
    },
    {
      "cell_type": "code",
      "source": [
        "param = {'C':10**np.linspace(-3,3,101), 'gamma':['scale','auto']}\n",
        "\n",
        "niter = 15\n",
        "\n",
        "rbsvc =  SVC(kernel='rbf', max_iter=25000, random_state=0)\n",
        "rbsvc_gs = BayesSearchCV(rbsvc,param,n_iter=niter, cv=cv, n_jobs=-1, refit=True, random_state=0)\n",
        "rbsvc_gs.fit(X_train, y_train);"
      ],
      "metadata": {
        "id": "YCms9-hJT5Y3"
      },
      "execution_count": 54,
      "outputs": []
    },
    {
      "cell_type": "code",
      "source": [
        "show_html(pd.DataFrame(rbsvc_gs.cv_results_).loc[:,['params', 'mean_test_score','rank_test_score']].sort_values(by='rank_test_score').head().to_html())"
      ],
      "metadata": {
        "colab": {
          "base_uri": "https://localhost:8080/",
          "height": 206
        },
        "id": "enOIcwhVYR9s",
        "outputId": "ce3c0896-4f93-47cb-e08c-4458207a5108"
      },
      "execution_count": 55,
      "outputs": [
        {
          "output_type": "display_data",
          "data": {
            "text/plain": [
              "<IPython.core.display.HTML object>"
            ],
            "text/html": [
              "<table border=\"1\" class=\"dataframe\">\n",
              "  <thead>\n",
              "    <tr style=\"text-align: right;\">\n",
              "      <th></th>\n",
              "      <th>params</th>\n",
              "      <th>mean_test_score</th>\n",
              "      <th>rank_test_score</th>\n",
              "    </tr>\n",
              "  </thead>\n",
              "  <tbody>\n",
              "    <tr>\n",
              "      <th>6</th>\n",
              "      <td>{'C': 660.6934480075951, 'gamma': 'scale'}</td>\n",
              "      <td>0.277</td>\n",
              "      <td>1</td>\n",
              "    </tr>\n",
              "    <tr>\n",
              "      <th>5</th>\n",
              "      <td>{'C': 109.64781961431851, 'gamma': 'scale'}</td>\n",
              "      <td>0.276</td>\n",
              "      <td>2</td>\n",
              "    </tr>\n",
              "    <tr>\n",
              "      <th>12</th>\n",
              "      <td>{'C': 6.918309709189363, 'gamma': 'scale'}</td>\n",
              "      <td>0.267</td>\n",
              "      <td>3</td>\n",
              "    </tr>\n",
              "    <tr>\n",
              "      <th>7</th>\n",
              "      <td>{'C': 1.1481536214968828, 'gamma': 'scale'}</td>\n",
              "      <td>0.267</td>\n",
              "      <td>4</td>\n",
              "    </tr>\n",
              "    <tr>\n",
              "      <th>1</th>\n",
              "      <td>{'C': 0.03630780547701014, 'gamma': 'scale'}</td>\n",
              "      <td>0.266</td>\n",
              "      <td>5</td>\n",
              "    </tr>\n",
              "  </tbody>\n",
              "</table>"
            ]
          },
          "metadata": {}
        }
      ]
    },
    {
      "cell_type": "code",
      "source": [
        "print(classification_report(rbsvc_gs.predict(X_test), y_test))"
      ],
      "metadata": {
        "colab": {
          "base_uri": "https://localhost:8080/"
        },
        "id": "_OS52nU4dZf3",
        "outputId": "8bf6cb94-9313-41fa-b028-b4abe017a4c3"
      },
      "execution_count": 56,
      "outputs": [
        {
          "output_type": "stream",
          "name": "stdout",
          "text": [
            "              precision    recall  f1-score   support\n",
            "\n",
            "          -5       0.00      0.00      0.00         0\n",
            "          -4       0.00      0.00      0.00         0\n",
            "          -3       0.00      0.00      0.00         0\n",
            "          -2       0.00      0.00      0.00         0\n",
            "          -1       0.02      0.57      0.04         7\n",
            "           0       0.69      0.28      0.40       865\n",
            "           1       0.38      0.25      0.30       419\n",
            "           2       0.00      0.00      0.00         0\n",
            "           3       0.00      0.00      0.00         0\n",
            "           4       0.00      0.00      0.00         0\n",
            "           5       0.00      0.00      0.00         0\n",
            "           6       0.00      0.00      0.00         0\n",
            "           7       0.00      0.00      0.00         0\n",
            "\n",
            "    accuracy                           0.27      1291\n",
            "   macro avg       0.08      0.09      0.06      1291\n",
            "weighted avg       0.58      0.27      0.37      1291\n",
            "\n"
          ]
        }
      ]
    },
    {
      "cell_type": "markdown",
      "source": [
        "# **MLP**"
      ],
      "metadata": {
        "id": "7lizbrrFdrht"
      }
    },
    {
      "cell_type": "code",
      "source": [
        "sdscaler = StandardScaler()\n",
        "\n",
        "X_train_sd = sdscaler.fit_transform(X_train)\n",
        "X_test_sd = sdscaler.transform(X_test)"
      ],
      "metadata": {
        "id": "NiPwtD3lWO3e"
      },
      "execution_count": 57,
      "outputs": []
    },
    {
      "cell_type": "code",
      "source": [
        "mlp = MLPClassifier(max_iter=10000, early_stopping=True, n_iter_no_change=15, random_state=0)\n",
        "print(np.mean(cross_val_score(mlp,X_train_sd,y_train,cv=10)))"
      ],
      "metadata": {
        "colab": {
          "base_uri": "https://localhost:8080/"
        },
        "id": "urTvxOtjY1sx",
        "outputId": "237300b0-9a38-40fb-90df-5f814bc89d41"
      },
      "execution_count": 58,
      "outputs": [
        {
          "output_type": "stream",
          "name": "stdout",
          "text": [
            "0.2739015643220171\n"
          ]
        }
      ]
    },
    {
      "cell_type": "code",
      "source": [
        "param = {'hidden_layer_sizes':[10, 50, 100, 200], \n",
        "         'activation':['relu', 'logistic', 'identity'], \n",
        "         'learning_rate_init': [0.001, 0.01, 0.1]  }\n",
        "\n",
        "mlp =  MLPClassifier(max_iter=10000, early_stopping=True, n_iter_no_change=20,learning_rate='adaptive',random_state=0)\n",
        "mlp_gs =  GridSearchCV(mlp,param,cv=cv, n_jobs=-1, refit=True)\n",
        "mlp_gs.fit(X_train_sd, y_train);"
      ],
      "metadata": {
        "id": "H2Fn6Gm5Y3wx"
      },
      "execution_count": 59,
      "outputs": []
    },
    {
      "cell_type": "code",
      "source": [
        "show_html(pd.DataFrame(mlp_gs.cv_results_).loc[:,['params', 'mean_test_score','rank_test_score']].sort_values(by='rank_test_score').head().to_html())"
      ],
      "metadata": {
        "colab": {
          "base_uri": "https://localhost:8080/",
          "height": 206
        },
        "id": "f785Q-t6Y-a-",
        "outputId": "2b1d18b0-6e71-42b5-e72e-0105aec3528d"
      },
      "execution_count": 61,
      "outputs": [
        {
          "output_type": "display_data",
          "data": {
            "text/plain": [
              "<IPython.core.display.HTML object>"
            ],
            "text/html": [
              "<table border=\"1\" class=\"dataframe\">\n",
              "  <thead>\n",
              "    <tr style=\"text-align: right;\">\n",
              "      <th></th>\n",
              "      <th>params</th>\n",
              "      <th>mean_test_score</th>\n",
              "      <th>rank_test_score</th>\n",
              "    </tr>\n",
              "  </thead>\n",
              "  <tbody>\n",
              "    <tr>\n",
              "      <th>16</th>\n",
              "      <td>{'activation': 'logistic', 'hidden_layer_sizes': 50, 'learning_rate_init': 0.01}</td>\n",
              "      <td>0.290</td>\n",
              "      <td>1</td>\n",
              "    </tr>\n",
              "    <tr>\n",
              "      <th>13</th>\n",
              "      <td>{'activation': 'logistic', 'hidden_layer_sizes': 10, 'learning_rate_init': 0.01}</td>\n",
              "      <td>0.285</td>\n",
              "      <td>2</td>\n",
              "    </tr>\n",
              "    <tr>\n",
              "      <th>15</th>\n",
              "      <td>{'activation': 'logistic', 'hidden_layer_sizes': 50, 'learning_rate_init': 0.001}</td>\n",
              "      <td>0.285</td>\n",
              "      <td>3</td>\n",
              "    </tr>\n",
              "    <tr>\n",
              "      <th>28</th>\n",
              "      <td>{'activation': 'identity', 'hidden_layer_sizes': 50, 'learning_rate_init': 0.01}</td>\n",
              "      <td>0.284</td>\n",
              "      <td>4</td>\n",
              "    </tr>\n",
              "    <tr>\n",
              "      <th>26</th>\n",
              "      <td>{'activation': 'identity', 'hidden_layer_sizes': 10, 'learning_rate_init': 0.1}</td>\n",
              "      <td>0.283</td>\n",
              "      <td>5</td>\n",
              "    </tr>\n",
              "  </tbody>\n",
              "</table>"
            ]
          },
          "metadata": {}
        }
      ]
    }
  ]
}