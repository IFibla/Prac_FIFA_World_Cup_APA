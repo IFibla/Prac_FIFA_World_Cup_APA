{
  "cells": [
    {
      "cell_type": "code",
      "execution_count": 4,
      "metadata": {
        "id": "m0TqD8j3VBo0"
      },
      "outputs": [],
      "source": [
        "#!pip install scikit-optimize --user --quiet"
      ]
    },
    {
      "cell_type": "code",
      "execution_count": 26,
      "metadata": {
        "id": "zBYx-grnMgYc"
      },
      "outputs": [],
      "source": [
        "import pandas as pd\n",
        "from sklearn.svm import SVC, LinearSVC\n",
        "from sklearn.metrics import confusion_matrix, mean_squared_error, make_scorer, mean_absolute_error\n",
        "\n",
        "import numpy as np\n",
        "\n",
        "from sklearn.ensemble import RandomForestClassifier, GradientBoostingClassifier\n",
        "\n",
        "from sklearn.metrics import classification_report\n",
        "\n",
        "from sklearn.preprocessing import StandardScaler\n",
        "\n",
        "from sklearn.decomposition import PCA\n",
        "from sklearn.manifold import LocallyLinearEmbedding\n",
        "\n",
        "from sklearn.neural_network import MLPClassifier, MLPRegressor\n",
        "from sklearn.neighbors import KNeighborsClassifier, KNeighborsRegressor\n",
        "\n",
        "from sklearn.model_selection import GridSearchCV,train_test_split, cross_val_score, TimeSeriesSplit\n",
        "\n",
        "from yellowbrick.classifier.rocauc import roc_auc\n",
        "from yellowbrick.target.feature_correlation import feature_correlation\n",
        "from yellowbrick.classifier import precision_recall_curve\n",
        "\n",
        "import warnings\n",
        "\n",
        "from skopt import BayesSearchCV\n",
        "\n",
        "pd.set_option('display.precision', 3)"
      ]
    },
    {
      "cell_type": "code",
      "execution_count": 27,
      "metadata": {
        "id": "973RGVOPZSRp"
      },
      "outputs": [],
      "source": [
        "from IPython.display import display, HTML\n",
        "show_html = lambda html: display(HTML(html))"
      ]
    },
    {
      "cell_type": "code",
      "execution_count": 28,
      "metadata": {
        "colab": {
          "base_uri": "https://localhost:8080/",
          "height": 270
        },
        "id": "_ttQoYYfMVlJ",
        "outputId": "a0916a6c-7881-48e6-f976-d2c705095c35"
      },
      "outputs": [
        {
          "data": {
            "text/html": [
              "<div>\n",
              "<style scoped>\n",
              "    .dataframe tbody tr th:only-of-type {\n",
              "        vertical-align: middle;\n",
              "    }\n",
              "\n",
              "    .dataframe tbody tr th {\n",
              "        vertical-align: top;\n",
              "    }\n",
              "\n",
              "    .dataframe thead th {\n",
              "        text-align: right;\n",
              "    }\n",
              "</style>\n",
              "<table border=\"1\" class=\"dataframe\">\n",
              "  <thead>\n",
              "    <tr style=\"text-align: right;\">\n",
              "      <th></th>\n",
              "      <th>away_team_continent</th>\n",
              "      <th>away_team_fifa_rank</th>\n",
              "      <th>away_team_goalkeeper_score</th>\n",
              "      <th>away_team_mean_defense_score</th>\n",
              "      <th>away_team_mean_midfield_score</th>\n",
              "      <th>away_team_mean_offense_score</th>\n",
              "      <th>away_team_total_fifa_points</th>\n",
              "      <th>home_team_continent</th>\n",
              "      <th>home_team_fifa_rank</th>\n",
              "      <th>home_team_goalkeeper_score</th>\n",
              "      <th>home_team_mean_defense_score</th>\n",
              "      <th>home_team_mean_midfield_score</th>\n",
              "      <th>home_team_mean_offense_score</th>\n",
              "      <th>home_team_total_fifa_points</th>\n",
              "      <th>shoot_out</th>\n",
              "      <th>result</th>\n",
              "    </tr>\n",
              "  </thead>\n",
              "  <tbody>\n",
              "    <tr>\n",
              "      <th>0</th>\n",
              "      <td>0.4</td>\n",
              "      <td>0.349</td>\n",
              "      <td>0.729</td>\n",
              "      <td>0.652</td>\n",
              "      <td>0.707</td>\n",
              "      <td>0.601</td>\n",
              "      <td>0.0</td>\n",
              "      <td>0.4</td>\n",
              "      <td>0.012</td>\n",
              "      <td>0.938</td>\n",
              "      <td>0.842</td>\n",
              "      <td>0.898</td>\n",
              "      <td>0.907</td>\n",
              "      <td>0.0</td>\n",
              "      <td>0.0</td>\n",
              "      <td>0.0</td>\n",
              "    </tr>\n",
              "    <tr>\n",
              "      <th>1</th>\n",
              "      <td>0.4</td>\n",
              "      <td>0.032</td>\n",
              "      <td>0.812</td>\n",
              "      <td>0.961</td>\n",
              "      <td>0.977</td>\n",
              "      <td>0.871</td>\n",
              "      <td>0.0</td>\n",
              "      <td>0.4</td>\n",
              "      <td>0.517</td>\n",
              "      <td>0.708</td>\n",
              "      <td>0.536</td>\n",
              "      <td>0.473</td>\n",
              "      <td>0.496</td>\n",
              "      <td>0.0</td>\n",
              "      <td>0.0</td>\n",
              "      <td>0.0</td>\n",
              "    </tr>\n",
              "    <tr>\n",
              "      <th>2</th>\n",
              "      <td>0.4</td>\n",
              "      <td>0.397</td>\n",
              "      <td>0.521</td>\n",
              "      <td>0.399</td>\n",
              "      <td>0.374</td>\n",
              "      <td>0.480</td>\n",
              "      <td>0.0</td>\n",
              "      <td>0.4</td>\n",
              "      <td>0.140</td>\n",
              "      <td>0.583</td>\n",
              "      <td>0.664</td>\n",
              "      <td>0.610</td>\n",
              "      <td>0.640</td>\n",
              "      <td>0.0</td>\n",
              "      <td>0.0</td>\n",
              "      <td>3.0</td>\n",
              "    </tr>\n",
              "    <tr>\n",
              "      <th>3</th>\n",
              "      <td>0.4</td>\n",
              "      <td>0.212</td>\n",
              "      <td>0.604</td>\n",
              "      <td>0.360</td>\n",
              "      <td>0.612</td>\n",
              "      <td>0.601</td>\n",
              "      <td>0.0</td>\n",
              "      <td>0.4</td>\n",
              "      <td>0.459</td>\n",
              "      <td>0.604</td>\n",
              "      <td>0.315</td>\n",
              "      <td>0.341</td>\n",
              "      <td>0.597</td>\n",
              "      <td>0.0</td>\n",
              "      <td>0.0</td>\n",
              "      <td>-2.0</td>\n",
              "    </tr>\n",
              "    <tr>\n",
              "      <th>4</th>\n",
              "      <td>0.4</td>\n",
              "      <td>0.196</td>\n",
              "      <td>0.625</td>\n",
              "      <td>0.622</td>\n",
              "      <td>0.626</td>\n",
              "      <td>0.649</td>\n",
              "      <td>0.0</td>\n",
              "      <td>0.4</td>\n",
              "      <td>0.047</td>\n",
              "      <td>1.000</td>\n",
              "      <td>1.000</td>\n",
              "      <td>0.843</td>\n",
              "      <td>0.982</td>\n",
              "      <td>0.0</td>\n",
              "      <td>0.0</td>\n",
              "      <td>1.0</td>\n",
              "    </tr>\n",
              "  </tbody>\n",
              "</table>\n",
              "</div>"
            ],
            "text/plain": [
              "   away_team_continent  away_team_fifa_rank  away_team_goalkeeper_score  \\\n",
              "0                  0.4                0.349                       0.729   \n",
              "1                  0.4                0.032                       0.812   \n",
              "2                  0.4                0.397                       0.521   \n",
              "3                  0.4                0.212                       0.604   \n",
              "4                  0.4                0.196                       0.625   \n",
              "\n",
              "   away_team_mean_defense_score  away_team_mean_midfield_score  \\\n",
              "0                         0.652                          0.707   \n",
              "1                         0.961                          0.977   \n",
              "2                         0.399                          0.374   \n",
              "3                         0.360                          0.612   \n",
              "4                         0.622                          0.626   \n",
              "\n",
              "   away_team_mean_offense_score  away_team_total_fifa_points  \\\n",
              "0                         0.601                          0.0   \n",
              "1                         0.871                          0.0   \n",
              "2                         0.480                          0.0   \n",
              "3                         0.601                          0.0   \n",
              "4                         0.649                          0.0   \n",
              "\n",
              "   home_team_continent  home_team_fifa_rank  home_team_goalkeeper_score  \\\n",
              "0                  0.4                0.012                       0.938   \n",
              "1                  0.4                0.517                       0.708   \n",
              "2                  0.4                0.140                       0.583   \n",
              "3                  0.4                0.459                       0.604   \n",
              "4                  0.4                0.047                       1.000   \n",
              "\n",
              "   home_team_mean_defense_score  home_team_mean_midfield_score  \\\n",
              "0                         0.842                          0.898   \n",
              "1                         0.536                          0.473   \n",
              "2                         0.664                          0.610   \n",
              "3                         0.315                          0.341   \n",
              "4                         1.000                          0.843   \n",
              "\n",
              "   home_team_mean_offense_score  home_team_total_fifa_points  shoot_out  \\\n",
              "0                         0.907                          0.0        0.0   \n",
              "1                         0.496                          0.0        0.0   \n",
              "2                         0.640                          0.0        0.0   \n",
              "3                         0.597                          0.0        0.0   \n",
              "4                         0.982                          0.0        0.0   \n",
              "\n",
              "   result  \n",
              "0     0.0  \n",
              "1     0.0  \n",
              "2     3.0  \n",
              "3    -2.0  \n",
              "4     1.0  "
            ]
          },
          "execution_count": 28,
          "metadata": {},
          "output_type": "execute_result"
        }
      ],
      "source": [
        "df = pd.read_csv('../../Data/international_matches_clean.csv')\n",
        "df.head()"
      ]
    },
    {
      "cell_type": "code",
      "execution_count": 49,
      "metadata": {
        "id": "StX_2eH_NBO-"
      },
      "outputs": [],
      "source": [
        "X = df[df.columns.difference(['result'])]\n",
        "y = np.array(df[['result']])"
      ]
    },
    {
      "cell_type": "code",
      "execution_count": 50,
      "metadata": {
        "id": "gFjQicyiNVwF"
      },
      "outputs": [],
      "source": [
        "X_train, X_test, y_train, y_test = train_test_split(X, y, test_size=0.3, random_state=0)"
      ]
    },
    {
      "cell_type": "markdown",
      "metadata": {
        "id": "E_wjxlQEc5m-"
      },
      "source": [
        "# **Random Forest**"
      ]
    },
    {
      "cell_type": "code",
      "execution_count": null,
      "metadata": {
        "colab": {
          "base_uri": "https://localhost:8080/"
        },
        "id": "0EGLZSz1NGE2",
        "outputId": "8bf9bdcc-e1c4-448c-9a94-f99151da710d"
      },
      "outputs": [],
      "source": [
        "param = {'n_estimators': [5, 10, 25, 40, 50, 75, 100, 200], \n",
        "         'criterion': ['gini', 'entropy'], \n",
        "         'max_depth': [None, 1, 2, 3, 5, 8, 9,10,15],\n",
        "         'min_samples_leaf': [1,2,3,5,10]}\n",
        "\n",
        "cv = 5\n",
        "iter = 15\n",
        "\n",
        "rf = RandomForestClassifier(random_state=0);\n",
        "rf_bs = BayesSearchCV(rf, param, n_iter=iter, cv=cv, n_jobs=-1, refit=True, random_state=0);\n",
        "rf_bs.fit(X_train, y_train.squeeze());"
      ]
    },
    {
      "cell_type": "code",
      "execution_count": 53,
      "metadata": {
        "colab": {
          "base_uri": "https://localhost:8080/",
          "height": 206
        },
        "id": "VwoMUnNMbl60",
        "outputId": "8f3c677e-e884-4046-f132-144d9bc333fd"
      },
      "outputs": [
        {
          "data": {
            "text/html": [
              "<table border=\"1\" class=\"dataframe\">\n",
              "  <thead>\n",
              "    <tr style=\"text-align: right;\">\n",
              "      <th></th>\n",
              "      <th>params</th>\n",
              "      <th>mean_test_score</th>\n",
              "      <th>rank_test_score</th>\n",
              "    </tr>\n",
              "  </thead>\n",
              "  <tbody>\n",
              "    <tr>\n",
              "      <th>9</th>\n",
              "      <td>{'criterion': 'entropy', 'max_depth': 5, 'min_samples_leaf': 2, 'n_estimators': 100}</td>\n",
              "      <td>0.291</td>\n",
              "      <td>1</td>\n",
              "    </tr>\n",
              "    <tr>\n",
              "      <th>12</th>\n",
              "      <td>{'criterion': 'entropy', 'max_depth': 5, 'min_samples_leaf': 1, 'n_estimators': 100}</td>\n",
              "      <td>0.291</td>\n",
              "      <td>2</td>\n",
              "    </tr>\n",
              "    <tr>\n",
              "      <th>14</th>\n",
              "      <td>{'criterion': 'entropy', 'max_depth': 5, 'min_samples_leaf': 2, 'n_estimators': 75}</td>\n",
              "      <td>0.288</td>\n",
              "      <td>3</td>\n",
              "    </tr>\n",
              "    <tr>\n",
              "      <th>10</th>\n",
              "      <td>{'criterion': 'entropy', 'max_depth': 5, 'min_samples_leaf': 2, 'n_estimators': 200}</td>\n",
              "      <td>0.285</td>\n",
              "      <td>4</td>\n",
              "    </tr>\n",
              "    <tr>\n",
              "      <th>8</th>\n",
              "      <td>{'criterion': 'entropy', 'max_depth': 10, 'min_samples_leaf': 5, 'n_estimators': 200}</td>\n",
              "      <td>0.285</td>\n",
              "      <td>5</td>\n",
              "    </tr>\n",
              "  </tbody>\n",
              "</table>"
            ],
            "text/plain": [
              "<IPython.core.display.HTML object>"
            ]
          },
          "metadata": {},
          "output_type": "display_data"
        }
      ],
      "source": [
        "show_html(pd.DataFrame(rf_bs.cv_results_).loc[:,['params', 'mean_test_score','rank_test_score']].sort_values(by='rank_test_score').head().to_html())"
      ]
    },
    {
      "cell_type": "code",
      "execution_count": 56,
      "metadata": {
        "colab": {
          "base_uri": "https://localhost:8080/"
        },
        "id": "YhVOO5KNd0P3",
        "outputId": "78221652-e3ee-4ea0-96a6-a61ffce95251"
      },
      "outputs": [
        {
          "name": "stdout",
          "output_type": "stream",
          "text": [
            "              precision    recall  f1-score   support\n",
            "\n",
            "        -5.0       0.00      0.00      0.00         0\n",
            "        -4.0       0.00      0.00      0.00         0\n",
            "        -3.0       0.00      0.00      0.00         0\n",
            "        -2.0       0.00      0.00      0.00         0\n",
            "        -1.0       0.07      0.26      0.11        58\n",
            "         0.0       0.63      0.30      0.41       749\n",
            "         1.0       0.45      0.26      0.33       479\n",
            "         2.0       0.01      0.25      0.01         4\n",
            "         3.0       0.01      1.00      0.03         1\n",
            "         4.0       0.00      0.00      0.00         0\n",
            "         5.0       0.00      0.00      0.00         0\n",
            "         6.0       0.00      0.00      0.00         0\n",
            "         7.0       0.00      0.00      0.00         0\n",
            "\n",
            "    accuracy                           0.28      1291\n",
            "   macro avg       0.09      0.16      0.07      1291\n",
            "weighted avg       0.54      0.28      0.36      1291\n",
            "\n"
          ]
        },
        {
          "name": "stderr",
          "output_type": "stream",
          "text": [
            "/Users/ignasi/opt/anaconda3/envs/AprenentatgeAutomatic/lib/python3.9/site-packages/sklearn/metrics/_classification.py:1334: UndefinedMetricWarning: Recall and F-score are ill-defined and being set to 0.0 in labels with no true samples. Use `zero_division` parameter to control this behavior.\n",
            "  _warn_prf(average, modifier, msg_start, len(result))\n",
            "/Users/ignasi/opt/anaconda3/envs/AprenentatgeAutomatic/lib/python3.9/site-packages/sklearn/metrics/_classification.py:1334: UndefinedMetricWarning: Recall and F-score are ill-defined and being set to 0.0 in labels with no true samples. Use `zero_division` parameter to control this behavior.\n",
            "  _warn_prf(average, modifier, msg_start, len(result))\n",
            "/Users/ignasi/opt/anaconda3/envs/AprenentatgeAutomatic/lib/python3.9/site-packages/sklearn/metrics/_classification.py:1334: UndefinedMetricWarning: Recall and F-score are ill-defined and being set to 0.0 in labels with no true samples. Use `zero_division` parameter to control this behavior.\n",
            "  _warn_prf(average, modifier, msg_start, len(result))\n"
          ]
        }
      ],
      "source": [
        "print(classification_report(rf_bs.predict(X_test), y_test.squeeze()))"
      ]
    },
    {
      "cell_type": "markdown",
      "metadata": {
        "id": "0IKZWKIwdFHV"
      },
      "source": [
        "# **SVM con kernel RBF**"
      ]
    },
    {
      "cell_type": "code",
      "execution_count": null,
      "metadata": {
        "id": "YCms9-hJT5Y3"
      },
      "outputs": [],
      "source": [
        "param = {'C':10**np.linspace(-3,3,101), 'gamma':['scale','auto']}\n",
        "\n",
        "niter = 15\n",
        "\n",
        "rbsvc =  SVC(kernel='rbf', max_iter=25000, random_state=0)\n",
        "rbsvc_gs = BayesSearchCV(rbsvc,param,n_iter=niter, cv=cv, n_jobs=-1, refit=True, random_state=0)\n",
        "rbsvc_gs.fit(X_train, y_train.squeeze());"
      ]
    },
    {
      "cell_type": "code",
      "execution_count": 58,
      "metadata": {
        "colab": {
          "base_uri": "https://localhost:8080/",
          "height": 206
        },
        "id": "enOIcwhVYR9s",
        "outputId": "ce3c0896-4f93-47cb-e08c-4458207a5108"
      },
      "outputs": [
        {
          "data": {
            "text/html": [
              "<table border=\"1\" class=\"dataframe\">\n",
              "  <thead>\n",
              "    <tr style=\"text-align: right;\">\n",
              "      <th></th>\n",
              "      <th>params</th>\n",
              "      <th>mean_test_score</th>\n",
              "      <th>rank_test_score</th>\n",
              "    </tr>\n",
              "  </thead>\n",
              "  <tbody>\n",
              "    <tr>\n",
              "      <th>13</th>\n",
              "      <td>{'C': 125.89254117941661, 'gamma': 'auto'}</td>\n",
              "      <td>0.288</td>\n",
              "      <td>1</td>\n",
              "    </tr>\n",
              "    <tr>\n",
              "      <th>7</th>\n",
              "      <td>{'C': 1.1481536214968828, 'gamma': 'scale'}</td>\n",
              "      <td>0.288</td>\n",
              "      <td>2</td>\n",
              "    </tr>\n",
              "    <tr>\n",
              "      <th>2</th>\n",
              "      <td>{'C': 1.513561248436207, 'gamma': 'auto'}</td>\n",
              "      <td>0.286</td>\n",
              "      <td>3</td>\n",
              "    </tr>\n",
              "    <tr>\n",
              "      <th>0</th>\n",
              "      <td>{'C': 1.513561248436207, 'gamma': 'scale'}</td>\n",
              "      <td>0.286</td>\n",
              "      <td>4</td>\n",
              "    </tr>\n",
              "    <tr>\n",
              "      <th>10</th>\n",
              "      <td>{'C': 331.13112148259074, 'gamma': 'auto'}</td>\n",
              "      <td>0.282</td>\n",
              "      <td>5</td>\n",
              "    </tr>\n",
              "  </tbody>\n",
              "</table>"
            ],
            "text/plain": [
              "<IPython.core.display.HTML object>"
            ]
          },
          "metadata": {},
          "output_type": "display_data"
        }
      ],
      "source": [
        "show_html(pd.DataFrame(rbsvc_gs.cv_results_).loc[:,['params', 'mean_test_score','rank_test_score']].sort_values(by='rank_test_score').head().to_html())"
      ]
    },
    {
      "cell_type": "code",
      "execution_count": 59,
      "metadata": {
        "colab": {
          "base_uri": "https://localhost:8080/"
        },
        "id": "_OS52nU4dZf3",
        "outputId": "8bf6cb94-9313-41fa-b028-b4abe017a4c3"
      },
      "outputs": [
        {
          "name": "stdout",
          "output_type": "stream",
          "text": [
            "              precision    recall  f1-score   support\n",
            "\n",
            "        -5.0       0.00      0.00      0.00         0\n",
            "        -4.0       0.00      0.00      0.00         0\n",
            "        -3.0       0.00      0.00      0.00         0\n",
            "        -2.0       0.00      0.00      0.00         0\n",
            "        -1.0       0.07      0.33      0.11        42\n",
            "         0.0       0.67      0.29      0.41       819\n",
            "         1.0       0.43      0.28      0.34       430\n",
            "         2.0       0.00      0.00      0.00         0\n",
            "         3.0       0.00      0.00      0.00         0\n",
            "         4.0       0.00      0.00      0.00         0\n",
            "         5.0       0.00      0.00      0.00         0\n",
            "         6.0       0.00      0.00      0.00         0\n",
            "         7.0       0.00      0.00      0.00         0\n",
            "\n",
            "    accuracy                           0.29      1291\n",
            "   macro avg       0.09      0.07      0.07      1291\n",
            "weighted avg       0.57      0.29      0.37      1291\n",
            "\n"
          ]
        },
        {
          "name": "stderr",
          "output_type": "stream",
          "text": [
            "/Users/ignasi/opt/anaconda3/envs/AprenentatgeAutomatic/lib/python3.9/site-packages/sklearn/metrics/_classification.py:1334: UndefinedMetricWarning: Recall and F-score are ill-defined and being set to 0.0 in labels with no true samples. Use `zero_division` parameter to control this behavior.\n",
            "  _warn_prf(average, modifier, msg_start, len(result))\n",
            "/Users/ignasi/opt/anaconda3/envs/AprenentatgeAutomatic/lib/python3.9/site-packages/sklearn/metrics/_classification.py:1334: UndefinedMetricWarning: Recall and F-score are ill-defined and being set to 0.0 in labels with no true samples. Use `zero_division` parameter to control this behavior.\n",
            "  _warn_prf(average, modifier, msg_start, len(result))\n",
            "/Users/ignasi/opt/anaconda3/envs/AprenentatgeAutomatic/lib/python3.9/site-packages/sklearn/metrics/_classification.py:1334: UndefinedMetricWarning: Recall and F-score are ill-defined and being set to 0.0 in labels with no true samples. Use `zero_division` parameter to control this behavior.\n",
            "  _warn_prf(average, modifier, msg_start, len(result))\n"
          ]
        }
      ],
      "source": [
        "print(classification_report(rbsvc_gs.predict(X_test), y_test.squeeze()))"
      ]
    },
    {
      "cell_type": "markdown",
      "metadata": {
        "id": "7lizbrrFdrht"
      },
      "source": [
        "# **MLP**"
      ]
    },
    {
      "cell_type": "code",
      "execution_count": 57,
      "metadata": {
        "id": "NiPwtD3lWO3e"
      },
      "outputs": [],
      "source": [
        "sdscaler = StandardScaler()\n",
        "\n",
        "X_train_sd = sdscaler.fit_transform(X_train)\n",
        "X_test_sd = sdscaler.transform(X_test)"
      ]
    },
    {
      "cell_type": "code",
      "execution_count": null,
      "metadata": {
        "colab": {
          "base_uri": "https://localhost:8080/"
        },
        "id": "urTvxOtjY1sx",
        "outputId": "237300b0-9a38-40fb-90df-5f814bc89d41"
      },
      "outputs": [],
      "source": [
        "mlp = MLPClassifier(max_iter=10000, early_stopping=True, n_iter_no_change=15, random_state=0)\n",
        "print(np.mean(cross_val_score(mlp,X_train,y_train.squeeze(),cv=10)))"
      ]
    },
    {
      "cell_type": "code",
      "execution_count": null,
      "metadata": {
        "id": "H2Fn6Gm5Y3wx"
      },
      "outputs": [],
      "source": [
        "param = {'hidden_layer_sizes':[10, 50, 100, 200], \n",
        "         'activation':['relu', 'logistic', 'identity'], \n",
        "         'learning_rate_init': [0.001, 0.01, 0.1]  }\n",
        "\n",
        "mlp =  MLPClassifier(max_iter=10000, early_stopping=True, n_iter_no_change=20,learning_rate='adaptive',random_state=0)\n",
        "mlp_gs =  GridSearchCV(mlp,param,cv=cv, n_jobs=-1, refit=True)\n",
        "mlp_gs.fit(X_train, y_train);"
      ]
    },
    {
      "cell_type": "code",
      "execution_count": 62,
      "metadata": {
        "colab": {
          "base_uri": "https://localhost:8080/",
          "height": 206
        },
        "id": "f785Q-t6Y-a-",
        "outputId": "2b1d18b0-6e71-42b5-e72e-0105aec3528d"
      },
      "outputs": [
        {
          "data": {
            "text/html": [
              "<table border=\"1\" class=\"dataframe\">\n",
              "  <thead>\n",
              "    <tr style=\"text-align: right;\">\n",
              "      <th></th>\n",
              "      <th>params</th>\n",
              "      <th>mean_test_score</th>\n",
              "      <th>rank_test_score</th>\n",
              "    </tr>\n",
              "  </thead>\n",
              "  <tbody>\n",
              "    <tr>\n",
              "      <th>5</th>\n",
              "      <td>{'activation': 'relu', 'hidden_layer_sizes': 50, 'learning_rate_init': 0.1}</td>\n",
              "      <td>0.297</td>\n",
              "      <td>1</td>\n",
              "    </tr>\n",
              "    <tr>\n",
              "      <th>4</th>\n",
              "      <td>{'activation': 'relu', 'hidden_layer_sizes': 50, 'learning_rate_init': 0.01}</td>\n",
              "      <td>0.292</td>\n",
              "      <td>2</td>\n",
              "    </tr>\n",
              "    <tr>\n",
              "      <th>26</th>\n",
              "      <td>{'activation': 'identity', 'hidden_layer_sizes': 10, 'learning_rate_init': 0.1}</td>\n",
              "      <td>0.291</td>\n",
              "      <td>3</td>\n",
              "    </tr>\n",
              "    <tr>\n",
              "      <th>27</th>\n",
              "      <td>{'activation': 'identity', 'hidden_layer_sizes': 50, 'learning_rate_init': 0.001}</td>\n",
              "      <td>0.290</td>\n",
              "      <td>4</td>\n",
              "    </tr>\n",
              "    <tr>\n",
              "      <th>9</th>\n",
              "      <td>{'activation': 'relu', 'hidden_layer_sizes': 200, 'learning_rate_init': 0.001}</td>\n",
              "      <td>0.289</td>\n",
              "      <td>5</td>\n",
              "    </tr>\n",
              "  </tbody>\n",
              "</table>"
            ],
            "text/plain": [
              "<IPython.core.display.HTML object>"
            ]
          },
          "metadata": {},
          "output_type": "display_data"
        }
      ],
      "source": [
        "show_html(pd.DataFrame(mlp_gs.cv_results_).loc[:,['params', 'mean_test_score','rank_test_score']].sort_values(by='rank_test_score').head().to_html())"
      ]
    },
    {
      "cell_type": "code",
      "execution_count": null,
      "metadata": {},
      "outputs": [],
      "source": []
    }
  ],
  "metadata": {
    "colab": {
      "provenance": []
    },
    "kernelspec": {
      "display_name": "AprenentatgeAutomatic",
      "language": "python",
      "name": "python3"
    },
    "language_info": {
      "codemirror_mode": {
        "name": "ipython",
        "version": 3
      },
      "file_extension": ".py",
      "mimetype": "text/x-python",
      "name": "python",
      "nbconvert_exporter": "python",
      "pygments_lexer": "ipython3",
      "version": "3.9.13"
    },
    "vscode": {
      "interpreter": {
        "hash": "051e2a7455ef7de55727fc6194105a963458f6ab7bfa3795f7d8c3e8e4a34bf0"
      }
    }
  },
  "nbformat": 4,
  "nbformat_minor": 0
}
