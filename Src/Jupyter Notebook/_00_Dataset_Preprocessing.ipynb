{
 "cells": [],
 "metadata": {
  "kernelspec": {
   "display_name": "AprenentatgeAutomatic",
   "language": "python",
   "name": "python3"
  },
  "language_info": {
   "codemirror_mode": {
    "name": "ipython",
    "version": 3
   },
   "file_extension": ".py",
   "mimetype": "text/x-python",
   "name": "python",
   "nbconvert_exporter": "python",
   "pygments_lexer": "ipython3",
   "version": "3.9.13"
  },
  "orig_nbformat": 4,
  "vscode": {
   "interpreter": {
    "hash": "051e2a7455ef7de55727fc6194105a963458f6ab7bfa3795f7d8c3e8e4a34bf0"
   }
  }
 },
 "nbformat": 4,
 "nbformat_minor": 2
}
