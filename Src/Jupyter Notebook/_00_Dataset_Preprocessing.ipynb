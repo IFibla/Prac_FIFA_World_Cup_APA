{
 "cells": [
  {
   "attachments": {},
   "cell_type": "markdown",
   "metadata": {},
   "source": [
    "# Dataset Preprocessing\n",
    "\n",
    "In this notebook we are performing all the tasks related with the datapreprocessing. We start by checking the missing values and the outliers and then, once they are detected, we delete it from our dataset. Finnaly, we transform the categorical columns into values as it would be easy for our models to get results if those columns are integers rather than strings. "
   ]
  },
  {
   "attachments": {},
   "cell_type": "markdown",
   "metadata": {},
   "source": [
    "## Imports"
   ]
  },
  {
   "cell_type": "code",
   "execution_count": null,
   "metadata": {},
   "outputs": [],
   "source": [
    "import copy\n",
    "import numpy as np\n",
    "import pandas as pd\n",
    "import seaborn as sn\n",
    "import plotly.express as px\n",
    "import matplotlib.pyplot as plt\n",
    "import plotly.graph_objects as go\n",
    "from sklearn.decomposition import PCA \n",
    "from sklearn.preprocessing import MinMaxScaler"
   ]
  },
  {
   "attachments": {},
   "cell_type": "markdown",
   "metadata": {},
   "source": [
    "## Utils"
   ]
  },
  {
   "cell_type": "code",
   "execution_count": null,
   "metadata": {},
   "outputs": [],
   "source": [
    "def print_information_about_dataset(df):\n",
    "    for it, key in enumerate(df.keys()): print(it, key, len(df[df[key].notna()]))\n",
    "    print('From the dataset, after deleting the NaN values, we have found that we have only', \n",
    "            len(df[~df.isnull().any(axis=1)]), 'rows remaining.')"
   ]
  },
  {
   "cell_type": "code",
   "execution_count": null,
   "metadata": {},
   "outputs": [],
   "source": [
    "def delete_from_dataframe(df, delete_keys):\n",
    "    for key in delete_keys:\n",
    "        del df[key]\n",
    "    return df"
   ]
  },
  {
   "cell_type": "code",
   "execution_count": null,
   "metadata": {},
   "outputs": [],
   "source": [
    "def replace_string_to_int_dataframe(df, keys, input):\n",
    "    for keys, inp in zip(keys, input):\n",
    "        df[keys].replace(inp, list(range(len(inp))), inplace=True)\n",
    "    return df"
   ]
  },
  {
   "cell_type": "code",
   "execution_count": null,
   "metadata": {},
   "outputs": [],
   "source": [
    "def dataframe_to_dictionary(df, key, continue_list=None):\n",
    "    result = dict()\n",
    "    for _key, _val in zip(df[key].keys(), df[key].values):\n",
    "        if _key not in continue_list:\n",
    "            result[_key] = _val\n",
    "    return result"
   ]
  },
  {
   "cell_type": "code",
   "execution_count": null,
   "metadata": {},
   "outputs": [],
   "source": [
    "def make_plots(df, plot=0, objective_vars=2):\n",
    "    corr_matrix = df.corr()\n",
    "    if objective_vars == 2:\n",
    "        home_team = dataframe_to_dictionary(corr_matrix, 'home_team_score', ['home_team_score', 'away_team_score'])\n",
    "        away_team = dataframe_to_dictionary(corr_matrix, 'away_team_score', ['home_team_score', 'away_team_score'])\n",
    "\n",
    "        home_team = dict(sorted(home_team.items(), key=lambda item: item[1]))\n",
    "        away_team = dict(sorted(away_team.items(), key=lambda item: item[1]))\n",
    "    elif objective_vars == 1:\n",
    "        home_team = dataframe_to_dictionary(corr_matrix, 'result', ['result'])\n",
    "        home_team = dict(sorted(home_team.items(), key=lambda item: item[1]))\n",
    "\n",
    "    if plot == 0:\n",
    "        fig, ax = plt.subplots(objective_vars+1, 1)\n",
    "        ax[0].matshow(corr_matrix)\n",
    "        ax[0].set_title('Correlation Matrix', fontsize=8)\n",
    "        ax[0].set_xticklabels(list(range(len(corr_matrix.keys()))), fontsize=5)\n",
    "        ax[0].set_yticklabels(list(corr_matrix.keys()), fontsize=5)\n",
    "\n",
    "        ax[1].set_title('Home Team Variables Correlation', fontsize=8)\n",
    "        ax[1].barh(list(home_team.keys()), list(home_team.values()))\n",
    "        ax[1].set_yticklabels(list(home_team.keys()), fontsize=5)\n",
    "        \n",
    "        if objective_vars == 2:\n",
    "            ax[2].set_title('Away Team Variables Correlation', fontsize=8)\n",
    "            ax[2].barh(list(away_team.keys()), list(away_team.values()))\n",
    "            ax[2].set_yticklabels(list(away_team.keys()), fontsize=5)\n",
    "\n",
    "        fig.tight_layout()\n",
    "\n",
    "    elif plot == 1:\n",
    "        plt.matshow(corr_matrix)\n",
    "        plt.xticks(range(len(corr_matrix.columns)), corr_matrix.columns, rotation=90)\n",
    "        plt.yticks(range(len(corr_matrix.columns)), corr_matrix.columns)\n",
    "        plt.colorbar()\n",
    "\n",
    "    elif plot == 2:\n",
    "        plt.title('Home Team Variables Correlation')\n",
    "        plt.barh(list(home_team.keys()), list(home_team.values()))\n",
    "        plt.yticks(list(home_team.keys()))\n",
    "\n",
    "    elif plot == 3:\n",
    "        plt.title('Away Team Variables Correlation')\n",
    "        plt.barh(list(away_team.keys()), list(away_team.values()))\n",
    "        plt.yticks(list(away_team.keys()))\n",
    "    \n",
    "    elif plot == 4:\n",
    "        plt.title('Result Variable Correlation')\n",
    "        plt.barh(list(home_team.keys()), list(home_team.values()))\n",
    "        plt.yticks(list(home_team.keys()))\n",
    "\n",
    "    plt.show()"
   ]
  },
  {
   "cell_type": "code",
   "execution_count": null,
   "metadata": {},
   "outputs": [],
   "source": [
    "def create_scaler_and_transform_data(scaler, data, transform_data=False):\n",
    "    scaler.fit(data)\n",
    "    if not transform_data:\n",
    "        return scaler\n",
    "    return scaler, scaler.transform(data)"
   ]
  },
  {
   "attachments": {},
   "cell_type": "markdown",
   "metadata": {},
   "source": [
    "## Main"
   ]
  },
  {
   "cell_type": "code",
   "execution_count": null,
   "metadata": {},
   "outputs": [],
   "source": [
    "df = pd.read_csv('../../Data/international_matches.csv', delimiter=';')\n",
    "df.head()"
   ]
  },
  {
   "cell_type": "code",
   "execution_count": null,
   "metadata": {},
   "outputs": [],
   "source": [
    "print_information_about_dataset(df)"
   ]
  },
  {
   "cell_type": "code",
   "execution_count": null,
   "metadata": {},
   "outputs": [],
   "source": [
    "df_without_NaN = df[~df.isnull().any(axis=1)]\n",
    "df_without_NaN.head()"
   ]
  },
  {
   "cell_type": "code",
   "execution_count": null,
   "metadata": {},
   "outputs": [],
   "source": [
    "df_without_NaN_UnusedVars = copy.deepcopy(df_without_NaN)\n",
    "delete_keys = ['date', 'home_team', 'away_team', 'tournament', 'city', 'country', 'neutral_location', 'home_team_result']\n",
    "df_without_NaN_UnusedVars = delete_from_dataframe(df_without_NaN_UnusedVars, delete_keys)\n",
    "df_without_NaN_UnusedVars.head()"
   ]
  },
  {
   "cell_type": "code",
   "execution_count": null,
   "metadata": {},
   "outputs": [],
   "source": [
    "df_without_NaN_UnusedVars_KeysReplaced = copy.deepcopy(df_without_NaN_UnusedVars)\n",
    "replace_keys = ['home_team_continent', 'away_team_continent', 'shoot_out']\n",
    "replace_input = [['Africa', 'Asia', 'Europe', 'North America', 'Oceania', 'South America'], ['Africa', 'Asia', 'Europe', 'North America', 'Oceania', 'South America'], ['No', 'Yes']]\n",
    "df_without_NaN_UnusedVars_KeysReplaced = replace_string_to_int_dataframe(df_without_NaN_UnusedVars_KeysReplaced, replace_keys, replace_input)"
   ]
  },
  {
   "cell_type": "code",
   "execution_count": null,
   "metadata": {},
   "outputs": [],
   "source": [
    "make_plots(df_without_NaN_UnusedVars_KeysReplaced, 1)"
   ]
  },
  {
   "attachments": {},
   "cell_type": "markdown",
   "metadata": {},
   "source": [
    "## Estandarización de los datos"
   ]
  },
  {
   "cell_type": "code",
   "execution_count": null,
   "metadata": {},
   "outputs": [],
   "source": [
    "df_without_NaN_UnusedVars_KeysReplaced.head()"
   ]
  },
  {
   "cell_type": "code",
   "execution_count": null,
   "metadata": {},
   "outputs": [],
   "source": [
    "X = df_without_NaN_UnusedVars_KeysReplaced[df_without_NaN_UnusedVars_KeysReplaced.columns.difference(['home_team_score', 'away_team_score'])]\n",
    "y = df_without_NaN_UnusedVars_KeysReplaced[['home_team_score', 'away_team_score']]"
   ]
  },
  {
   "cell_type": "code",
   "execution_count": null,
   "metadata": {},
   "outputs": [],
   "source": [
    "X_scaler, X_scaled = create_scaler_and_transform_data(MinMaxScaler(), X, transform_data=True)"
   ]
  },
  {
   "cell_type": "code",
   "execution_count": null,
   "metadata": {},
   "outputs": [],
   "source": [
    "df_without_NaN_UnusedVars_KeysReplaced_Scaled = pd.DataFrame(X_scaled, columns=df_without_NaN_UnusedVars_KeysReplaced.columns.difference(['home_team_score', 'away_team_score']))\n",
    "df_without_NaN_UnusedVars_KeysReplaced_Scaled['home_team_score'] = y['home_team_score'].to_list()\n",
    "df_without_NaN_UnusedVars_KeysReplaced_Scaled['away_team_score'] = y['away_team_score'].to_list()\n",
    "df_without_NaN_UnusedVars_KeysReplaced_Scaled.head()"
   ]
  },
  {
   "attachments": {},
   "cell_type": "markdown",
   "metadata": {},
   "source": [
    "## Modificación de la Variable Objetivo"
   ]
  },
  {
   "cell_type": "code",
   "execution_count": null,
   "metadata": {},
   "outputs": [],
   "source": [
    "df_without_NaN_UnusedVars_KeysReplaced_OneObjectiveVar = copy.deepcopy(df_without_NaN_UnusedVars_KeysReplaced_Scaled)\n",
    "df_without_NaN_UnusedVars_KeysReplaced_OneObjectiveVar['result'] = df_without_NaN_UnusedVars_KeysReplaced_OneObjectiveVar.apply(lambda row: row.home_team_score - row.away_team_score, axis=1)\n",
    "delete_keys = ['home_team_score','away_team_score']\n",
    "df_without_NaN_UnusedVars_KeysReplaced_OneObjectiveVar = delete_from_dataframe(df_without_NaN_UnusedVars_KeysReplaced_OneObjectiveVar, delete_keys)"
   ]
  },
  {
   "cell_type": "code",
   "execution_count": null,
   "metadata": {},
   "outputs": [],
   "source": [
    "make_plots(df_without_NaN_UnusedVars_KeysReplaced_OneObjectiveVar, 1, objective_vars=1)"
   ]
  },
  {
   "attachments": {},
   "cell_type": "markdown",
   "metadata": {},
   "source": [
    "## Redución de la dimensionalidad"
   ]
  },
  {
   "cell_type": "code",
   "execution_count": null,
   "metadata": {},
   "outputs": [],
   "source": [
    "df_pca = copy.deepcopy(df_without_NaN_UnusedVars_KeysReplaced_OneObjectiveVar)\n",
    "del df_pca['result']"
   ]
  },
  {
   "cell_type": "code",
   "execution_count": null,
   "metadata": {},
   "outputs": [],
   "source": [
    "df_pca.head()"
   ]
  },
  {
   "cell_type": "code",
   "execution_count": null,
   "metadata": {},
   "outputs": [],
   "source": [
    "myPCA = PCA().fit(df_pca)\n",
    "\n",
    "print(myPCA.explained_variance_ratio_)\n",
    "print(myPCA.explained_variance_ratio_.cumsum())"
   ]
  },
  {
   "cell_type": "code",
   "execution_count": null,
   "metadata": {},
   "outputs": [],
   "source": [
    "fig = plt.figure(figsize=(8,6));\n",
    "plt.plot(range(1,len(myPCA.singular_values_ )+1),myPCA.singular_values_ ,alpha=0.8,marker='.');\n",
    "y_label = plt.ylabel('Eigenvalues');\n",
    "x_label = plt.xlabel('Componentes');\n",
    "plt.title('Scree plot');"
   ]
  },
  {
   "cell_type": "code",
   "execution_count": null,
   "metadata": {},
   "outputs": [],
   "source": [
    "fig = plt.figure(figsize=(8,3));\n",
    "plt.plot(range(1,len(myPCA.explained_variance_ratio_ )+1),myPCA.explained_variance_ratio_ ,alpha=0.8,marker='.',label=\"Variancia Explicada\", c='tab:olive');\n",
    "y_label = plt.ylabel('Variancia explicada');\n",
    "x_label = plt.xlabel('Componentes');\n",
    "plt.plot(range(1,len(myPCA.explained_variance_ratio_ )+1),\n",
    "         np.cumsum(myPCA.explained_variance_ratio_),\n",
    "         marker='.',\n",
    "         label=\"Variancia Explicada Acumulativa\", c='tab:purple');\n",
    "plt.legend();\n",
    "plt.title('Porcentaje de variancia explicada por componente');"
   ]
  },
  {
   "cell_type": "code",
   "execution_count": null,
   "metadata": {},
   "outputs": [],
   "source": [
    "fig, ax = plt.subplots(figsize=(15,15))         # Sample figsize in inches\n",
    "sn.heatmap(myPCA.components_,  \n",
    "            xticklabels=list(df_pca.columns),\n",
    "            vmin=-np.max(np.abs(myPCA.components_)),\n",
    "            vmax=np.max(np.abs(myPCA.components_)),\n",
    "            annot=True, cmap='viridis');"
   ]
  },
  {
   "cell_type": "code",
   "execution_count": null,
   "metadata": {},
   "outputs": [],
   "source": [
    "transformed_crabs = myPCA.transform(df_pca[df_pca.columns])\n",
    "df_pca[['PC1','PC2', 'PC3']] = transformed_crabs[:,:3]"
   ]
  },
  {
   "cell_type": "code",
   "execution_count": null,
   "metadata": {},
   "outputs": [],
   "source": [
    "fig = plt.figure(figsize=(8,8))\n",
    "_ = sn.scatterplot(x='PC1', y='PC2', hue=df_without_NaN_UnusedVars_KeysReplaced_OneObjectiveVar['result'] ,data=df_pca, legend=True, palette='viridis')"
   ]
  },
  {
   "cell_type": "code",
   "execution_count": null,
   "metadata": {},
   "outputs": [],
   "source": [
    "fig = go.Figure(data=[go.Scatter3d(\n",
    "    x=df_pca['PC1'],\n",
    "    y=df_pca['PC2'],\n",
    "    z=df_pca['PC3'],\n",
    "    mode='markers',\n",
    "    marker=dict(\n",
    "        color=df_without_NaN_UnusedVars_KeysReplaced_OneObjectiveVar['result'],                # set color to an array/list of desired values\n",
    "        colorscale='Viridis',   # choose a colorscale\n",
    "        opacity=0.8,\n",
    "        colorbar=dict(thickness=20)\n",
    "    ),\n",
    ")])\n",
    "fig.show()"
   ]
  },
  {
   "attachments": {},
   "cell_type": "markdown",
   "metadata": {},
   "source": [
    "## Guardar Conjunto De Datos"
   ]
  },
  {
   "cell_type": "code",
   "execution_count": null,
   "metadata": {},
   "outputs": [],
   "source": [
    "df_without_NaN_UnusedVars_KeysReplaced_OneObjectiveVar.to_csv('../../Data/international_matches_clean.csv', index=False)"
   ]
  }
 ],
 "metadata": {
  "kernelspec": {
   "display_name": "AprenentatgeAutomatic",
   "language": "python",
   "name": "python3"
  },
  "language_info": {
   "codemirror_mode": {
    "name": "ipython",
    "version": 3
   },
   "file_extension": ".py",
   "mimetype": "text/x-python",
   "name": "python",
   "nbconvert_exporter": "python",
   "pygments_lexer": "ipython3",
   "version": "3.9.13 (main, Aug 25 2022, 18:29:29) \n[Clang 12.0.0 ]"
  },
  "orig_nbformat": 4,
  "vscode": {
   "interpreter": {
    "hash": "051e2a7455ef7de55727fc6194105a963458f6ab7bfa3795f7d8c3e8e4a34bf0"
   }
  }
 },
 "nbformat": 4,
 "nbformat_minor": 2
}
